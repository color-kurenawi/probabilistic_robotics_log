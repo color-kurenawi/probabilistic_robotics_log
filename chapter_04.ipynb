{
 "cells": [
  {
   "cell_type": "markdown",
   "metadata": {},
   "source": [
    "# 第4章 不確かさのモデル化"
   ]
  },
  {
   "cell_type": "code",
   "execution_count": null,
   "metadata": {},
   "outputs": [],
   "source": [
    "import os\n",
    "DATA_DIR = \"LNPR_BOOK_CODES/section_uncertainty/\"\n",
    "os.chdir(DATA_DIR)"
   ]
  },
  {
   "cell_type": "markdown",
   "metadata": {},
   "source": [
    "## 4.1 ノートブックの準備"
   ]
  },
  {
   "cell_type": "code",
   "execution_count": null,
   "metadata": {},
   "outputs": [],
   "source": [
    "import sys                         ###noise_simulation_header###\n",
    "sys.path.append('../scripts/')\n",
    "from ideal_robot import *"
   ]
  },
  {
   "cell_type": "code",
   "execution_count": null,
   "metadata": {},
   "outputs": [],
   "source": [
    "class Robot(IdealRobot):          ###empty_robot###\n",
    "    pass"
   ]
  },
  {
   "cell_type": "code",
   "execution_count": null,
   "metadata": {},
   "outputs": [],
   "source": [
    "world = World(30, 0.1)            ###test_multi_animation###\n",
    "\n",
    "for i in range(100):\n",
    "    circling = Agent(0.2, 10.0/180*math.pi)\n",
    "    r = Robot( np.array([0, 0, 0]).T, sensor=None, agent=circling ) \n",
    "    world.append(r)\n",
    "\n",
    "world.draw()"
   ]
  },
  {
   "cell_type": "markdown",
   "metadata": {},
   "source": [
    "## 4.2 ロボットの移動に対する不確かさの要因の実装"
   ]
  },
  {
   "cell_type": "markdown",
   "metadata": {},
   "source": [
    "### 4.2.1 移動に対して発生する雑音の実装"
   ]
  },
  {
   "cell_type": "code",
   "execution_count": null,
   "metadata": {},
   "outputs": [],
   "source": [
    "import sys                       \n",
    "sys.path.append('../scripts/')\n",
    "from ideal_robot import *\n",
    "from scipy.stats import expon, norm ###spike_noise_header###"
   ]
  },
  {
   "cell_type": "code",
   "execution_count": null,
   "metadata": {},
   "outputs": [],
   "source": [
    "class Robot(IdealRobot):\n",
    "\n",
    "    def __init__(self, pose, agent=None, sensor=None, color=\"black\",\n",
    "                 noise_per_meter=5, noise_std=math.pi/60): \n",
    "        super().__init__(pose, agent, sensor, color)\n",
    "        self.noise_pdf = expon(scale=1.0/(1e-100 + noise_per_meter))\n",
    "        self.distance_until_noise = self.noise_pdf.rvs()\n",
    "        self.theta_noise = norm(scale=noise_std)\n",
    "        \n",
    "    def noise(self, pose, nu, omega, time_interval):\n",
    "        self.distance_until_noise -= abs(nu)*time_interval + self.r*abs(omega)*time_interval\n",
    "        if self.distance_until_noise <= 0.0:\n",
    "            self.distance_until_noise += self.noise_pdf.rvs() #瑣末だけど端数を残しておくために=でなく+=\n",
    "            pose[2] += self.theta_noise.rvs()\n",
    "            \n",
    "        return pose\n",
    "\n",
    "    def one_step(self, time_interval):\n",
    "        if not self.agent: return        \n",
    "        obs =self.sensor.data(self.pose) if self.sensor else None\n",
    "        nu, omega = self.agent.decision(obs)\n",
    "        self.pose = self.state_transition(nu, omega, time_interval, self.pose)\n",
    "        self.pose = self.noise(self.pose, nu, omega, time_interval) #追加"
   ]
  },
  {
   "cell_type": "code",
   "execution_count": null,
   "metadata": {},
   "outputs": [],
   "source": [
    "world = World(30, 0.1)   ###draw_spike_noise###\n",
    "\n",
    "for i in range(100):\n",
    "    circling = Agent(0.2, 10.0/180*math.pi)\n",
    "    r = Robot( np.array([0, 0, 0]).T, sensor=None, agent=circling, color=\"gray\" )  #灰色を指定\n",
    "    world.append(r)\n",
    "\n",
    "world.draw()"
   ]
  },
  {
   "cell_type": "markdown",
   "metadata": {},
   "source": [
    "### 4.2.2 移動速度へのバイアスの実装"
   ]
  },
  {
   "cell_type": "code",
   "execution_count": null,
   "metadata": {},
   "outputs": [],
   "source": [
    "import sys                       \n",
    "sys.path.append('../scripts/')\n",
    "from ideal_robot import *\n",
    "from scipy.stats import expon, norm"
   ]
  },
  {
   "cell_type": "code",
   "execution_count": null,
   "metadata": {},
   "outputs": [],
   "source": [
    "class Robot(IdealRobot): ###biased_random_robot### noiseメソッドは省略で\n",
    "        \n",
    "    def __init__(self, pose, agent=None, sensor=None, color=\"black\",\n",
    "                 noise_per_meter=5, noise_std=math.pi/60,\n",
    "                 bias_rate_stds=(0.1,0.1)):  #引数bias_rate_stdsを追加\n",
    "        super().__init__(pose, agent, sensor, color)\n",
    "        self.noise_pdf = expon(scale=1.0/(1e-100 + noise_per_meter))\n",
    "        self.distance_until_noise = self.noise_pdf.rvs()\n",
    "        self.theta_noise = norm(scale=noise_std)\n",
    "        self.bias_rate_nu = norm.rvs(loc=1.0, scale=bias_rate_stds[0])          #追加\n",
    "        self.bias_rate_omega = norm.rvs(loc=1.0, scale=bias_rate_stds[1])  #追加\n",
    "    \n",
    "    def noise(self, pose, nu, omega, time_interval):\n",
    "        self.distance_until_noise -= abs(nu)*time_interval + self.r*omega*time_interval\n",
    "        if self.distance_until_noise <= 0.0:\n",
    "            self.distance_until_noise += self.noise_pdf.rvs()\n",
    "            pose[2] += self.theta_noise.rvs()\n",
    "            \n",
    "        return pose\n",
    "    \n",
    "    def bias(self, nu, omega):  #追加\n",
    "        return nu*self.bias_rate_nu, omega*self.bias_rate_omega\n",
    "        \n",
    "    def one_step(self, time_interval):\n",
    "        if not self.agent: return\n",
    "        obs =self.sensor.data(self.pose) if self.sensor else None\n",
    "        nu, omega = self.agent.decision(obs)\n",
    "        nu, omega = self.bias(nu, omega)  #追加\n",
    "        self.pose = self.state_transition(nu, omega, time_interval, self.pose)\n",
    "        self.pose = self.noise(self.pose, omega, nu, time_interval)"
   ]
  },
  {
   "cell_type": "code",
   "execution_count": null,
   "metadata": {},
   "outputs": [],
   "source": [
    "import copy  ###compare_nobias_bias###\n",
    "\n",
    "world = World(30, 0.1) \n",
    "\n",
    "circling = Agent(0.2, 10.0/180*math.pi)    \n",
    "nobias_robot = IdealRobot( np.array([0, 0, 0]).T, sensor=None, agent=circling, color=\"gray\")\n",
    "world.append(nobias_robot)\n",
    "biased_robot = Robot( np.array([0, 0, 0]).T, sensor=None, agent=circling,\n",
    "                     color=\"red\", noise_per_meter=0, bias_rate_stds=(0.2,0.2))\n",
    "world.append(biased_robot)\n",
    "\n",
    "world.draw()\n",
    "#world.ani.save('/tmp/anm.gif', writer='imagemagick', fps=10)"
   ]
  },
  {
   "cell_type": "markdown",
   "metadata": {},
   "source": [
    "### 4.2.3 スタックの実装"
   ]
  },
  {
   "cell_type": "code",
   "execution_count": null,
   "metadata": {},
   "outputs": [],
   "source": [
    "import sys                       \n",
    "sys.path.append('../scripts/')\n",
    "from ideal_robot import *\n",
    "from scipy.stats import expon, norm"
   ]
  },
  {
   "cell_type": "code",
   "execution_count": null,
   "metadata": {},
   "outputs": [],
   "source": [
    "class Robot(IdealRobot): ###add_stuck### noise, biasメソッドは省略で\n",
    "        \n",
    "    def __init__(self, pose, agent=None, sensor=None, color=\"black\", \\\n",
    "                           noise_per_meter=5, noise_std=math.pi/60,\\\n",
    "                           bias_rate_stds=(0.1,0.1),\\\n",
    "                           expected_stuck_time = 1e100, expected_escape_time = 1e-100):  #追加\n",
    "        super().__init__(pose, agent, sensor, color)\n",
    "        self.noise_pdf = expon(scale=1.0/(1e-100 + noise_per_meter))\n",
    "        self.distance_until_noise = self.noise_pdf.rvs()\n",
    "        self.theta_noise = norm(scale=noise_std)\n",
    "        self.bias_rate_nu = norm.rvs(loc=1.0, scale=bias_rate_stds[0])\n",
    "        self.bias_rate_omega = norm.rvs(loc=1.0, scale=bias_rate_stds[1]) \n",
    "        \n",
    "        self.stuck_pdf = expon(scale=expected_stuck_time)  #以下追加\n",
    "        self.escape_pdf = expon(scale=expected_escape_time)\n",
    "        self.time_until_stuck = self.stuck_pdf.rvs()\n",
    "        self.time_until_escape = self.escape_pdf.rvs()\n",
    "        self.is_stuck = False\n",
    "    \n",
    "    def noise(self, pose, nu, omega, time_interval):\n",
    "        self.distance_until_noise -= abs(nu)*time_interval + self.r*omega*time_interval\n",
    "        if self.distance_until_noise <= 0.0:\n",
    "            self.distance_until_noise += self.noise_pdf.rvs()\n",
    "            pose[2] += self.theta_noise.rvs()\n",
    "            \n",
    "        return pose\n",
    "        \n",
    "    def bias(self, nu, omega): \n",
    "        return nu*self.bias_rate_nu, omega*self.bias_rate_omega\n",
    "    \n",
    "    def stuck(self, nu, omega, time_interval): #追加\n",
    "        if self.is_stuck:\n",
    "            self.time_until_escape -= time_interval\n",
    "            if self.time_until_escape <= 0.0:\n",
    "                self.time_until_escape += self.escape_pdf.rvs()\n",
    "                self.is_stuck = False\n",
    "        else:            \n",
    "            self.time_until_stuck -= time_interval\n",
    "            if self.time_until_stuck <= 0.0:\n",
    "                self.time_until_stuck += self.stuck_pdf.rvs()\n",
    "                self.is_stuck = True\n",
    "\n",
    "        return nu*(not self.is_stuck), omega*(not self.is_stuck)\n",
    "            \n",
    "    def one_step(self, time_interval):\n",
    "        if not self.agent: return\n",
    "        obs =self.sensor.data(self.pose) if self.sensor else None\n",
    "        nu, omega = self.agent.decision(obs)\n",
    "        nu, omega = self.bias(nu, omega)\n",
    "        nu, omega = self.stuck(nu, omega, time_interval) #追加\n",
    "        self.pose = self.state_transition(nu, omega, time_interval, self.pose)\n",
    "        self.pose = self.noise(self.pose, nu, omega, time_interval)\n",
    "        if self.sensor: self.sensor.data(self.pose)"
   ]
  },
  {
   "cell_type": "code",
   "execution_count": null,
   "metadata": {},
   "outputs": [],
   "source": [
    "world = World(30, 0.1)            ###stuck_simulation###\n",
    "\n",
    "circling = Agent(0.2, 10.0/180*math.pi)\n",
    "\n",
    "for i in range(100):\n",
    "    r = Robot( np.array([0, 0, 0]).T, sensor=None, agent=circling, color=\"gray\", \\\n",
    "                   noise_per_meter=0, bias_rate_stds=(0.0,0.0), \\\n",
    "                   expected_stuck_time=60.0, expected_escape_time=60.0) \n",
    "    world.append(r)\n",
    "\n",
    "r = IdealRobot( np.array([0, 0, 0]).T, sensor=None, agent=circling, color=\"red\" )  \n",
    "world.append(r)\n",
    "\n",
    "world.draw()"
   ]
  },
  {
   "cell_type": "markdown",
   "metadata": {},
   "source": [
    "### 4.2.4 誘拐の実装"
   ]
  },
  {
   "cell_type": "code",
   "execution_count": null,
   "metadata": {},
   "outputs": [],
   "source": [
    "import sys                       \n",
    "sys.path.append('../scripts/')\n",
    "from ideal_robot import *\n",
    "from scipy.stats import expon, norm, uniform #追加    ###add_uniform###"
   ]
  },
  {
   "cell_type": "code",
   "execution_count": null,
   "metadata": {},
   "outputs": [],
   "source": [
    "class Robot(IdealRobot): ###add_kidnapped### noise, bias, stuckメソッドは省略で\n",
    "        \n",
    "    def __init__(self, pose, agent=None, sensor=None, color=\"black\", \\\n",
    "                   noise_per_meter=5, noise_std=math.pi/60, bias_rate_stds=(0.1,0.1), \\\n",
    "                   expected_stuck_time=1e100, expected_escape_time = 1e-100,\\\n",
    "                   expected_kidnap_time=1e100, kidnap_range_x=(-5.0,5.0), kidnap_range_y=(-5.0,5.0)): #追加\n",
    "        super().__init__(pose, agent, sensor, color)\n",
    "        self.noise_pdf = expon(scale=1.0/(1e-100 + noise_per_meter))\n",
    "        self.distance_until_noise = self.noise_pdf.rvs()\n",
    "        self.theta_noise = norm(scale=noise_std)\n",
    "        self.bias_rate_nu = norm.rvs(loc=1.0, scale=bias_rate_stds[0])\n",
    "        self.bias_rate_omega = norm.rvs(loc=1.0, scale=bias_rate_stds[1]) \n",
    "        \n",
    "        self.stuck_pdf = expon(scale=expected_stuck_time) \n",
    "        self.escape_pdf = expon(scale=expected_escape_time)\n",
    "        self.is_stuck = False\n",
    "        self.time_until_stuck = self.stuck_pdf.rvs()\n",
    "        self.time_until_escape = self.escape_pdf.rvs()\n",
    "        \n",
    "        self.kidnap_pdf = expon(scale=expected_kidnap_time) #以下追加\n",
    "        self.time_until_kidnap = self.kidnap_pdf.rvs()\n",
    "        rx, ry = kidnap_range_x, kidnap_range_y\n",
    "        self.kidnap_dist = uniform(loc=(rx[0], ry[0], 0.0), scale=(rx[1]-rx[0], ry[1]-ry[0], 2*math.pi ))\n",
    "        \n",
    "    def noise(self, pose, nu, omega, time_interval):\n",
    "        self.distance_until_noise -= abs(nu)*time_interval + self.r*omega*time_interval\n",
    "        if self.distance_until_noise <= 0.0:\n",
    "            self.distance_until_noise += self.noise_pdf.rvs()\n",
    "            pose[2] += self.theta_noise.rvs()\n",
    "            \n",
    "        return pose\n",
    "        \n",
    "    def bias(self, nu, omega): \n",
    "        return nu*self.bias_rate_nu, omega*self.bias_rate_omega\n",
    "    \n",
    "    def stuck(self, nu, omega, time_interval): #追加\n",
    "        if self.is_stuck:\n",
    "            self.time_until_escape -= time_interval\n",
    "            if self.time_until_escape <= 0.0:\n",
    "                self.time_until_escape += self.escape_pdf.rvs()\n",
    "                self.is_stuck = False\n",
    "        else:            \n",
    "            self.time_until_stuck -= time_interval\n",
    "            if self.time_until_stuck <= 0.0:\n",
    "                self.time_until_stuck += self.stuck_pdf.rvs()\n",
    "                self.is_stuck = True\n",
    "\n",
    "        return nu*(not self.is_stuck), omega*(not self.is_stuck)\n",
    "    \n",
    "    def kidnap(self, pose, time_interval): #追加\n",
    "        self.time_until_kidnap -= time_interval\n",
    "        if self.time_until_kidnap <= 0.0:\n",
    "            self.time_until_kidnap += self.kidnap_pdf.rvs()\n",
    "            return np.array(self.kidnap_dist.rvs()).T\n",
    "        else:\n",
    "            return pose\n",
    "            \n",
    "    def one_step(self, time_interval):\n",
    "        if not self.agent: return\n",
    "        obs =self.sensor.data(self.pose) if self.sensor else None\n",
    "        nu, omega = self.agent.decision(obs)\n",
    "        nu, omega = self.bias(nu, omega)\n",
    "        nu, omega = self.stuck(nu, omega, time_interval)\n",
    "        self.pose = self.state_transition(nu, omega, time_interval, self.pose)\n",
    "        self.pose = self.noise(self.pose, nu, omega, time_interval)\n",
    "        self.pose = self.kidnap(self.pose, time_interval)  #追加"
   ]
  },
  {
   "cell_type": "code",
   "execution_count": null,
   "metadata": {},
   "outputs": [],
   "source": [
    "world = World(30, 0.1)           ###kidnap_simulation###\n",
    "\n",
    "circling = Agent(0.2, 10.0/180*math.pi)\n",
    "\n",
    "for i in range(100):\n",
    "    r = Robot( np.array([0, 0, 0]).T, sensor=None, agent=circling, color=\"gray\", \\\n",
    "                   noise_per_meter=0, bias_rate_stds=(0.0,0.0), expected_kidnap_time=5) \n",
    "    world.append(r)\n",
    "\n",
    "r = IdealRobot( np.array([0, 0, 0]).T, sensor=None, agent=circling, color=\"red\" ) \n",
    "world.append(r)\n",
    "\n",
    "world.draw()"
   ]
  },
  {
   "cell_type": "markdown",
   "metadata": {},
   "source": [
    "## 4.3 ロボットの観測に対する不確かさの要因の実装"
   ]
  },
  {
   "cell_type": "markdown",
   "metadata": {},
   "source": [
    "### 4.3.1 センサ値に対する雑音の実装"
   ]
  },
  {
   "cell_type": "code",
   "execution_count": null,
   "metadata": {},
   "outputs": [],
   "source": [
    "import sys                       \n",
    "sys.path.append('../scripts/')\n",
    "from ideal_robot import *\n",
    "from scipy.stats import expon, norm, uniform"
   ]
  },
  {
   "cell_type": "code",
   "execution_count": null,
   "metadata": {},
   "outputs": [],
   "source": [
    "class Robot(IdealRobot):\n",
    "        \n",
    "    def __init__(self, pose, agent=None, sensor=None, color=\"black\", \\\n",
    "                           noise_per_meter=5, noise_std=math.pi/60, bias_rate_stds=(0.1,0.1), \\\n",
    "                           expected_stuck_time=1e100, expected_escape_time = 1e-100,\\\n",
    "                           expected_kidnap_time=1e100, kidnap_range_x = (-5.0,5.0), kidnap_range_y = (-5.0,5.0)): #追加\n",
    "        super().__init__(pose, agent, sensor, color)\n",
    "        self.noise_pdf = expon(scale=1.0/(1e-100 + noise_per_meter))\n",
    "        self.distance_until_noise = self.noise_pdf.rvs()\n",
    "        self.theta_noise = norm(scale=noise_std)\n",
    "        self.bias_rate_nu = norm.rvs(loc=1.0, scale=bias_rate_stds[0])\n",
    "        self.bias_rate_omega = norm.rvs(loc=1.0, scale=bias_rate_stds[1]) \n",
    "        \n",
    "        self.stuck_pdf = expon(scale=expected_stuck_time) \n",
    "        self.escape_pdf = expon(scale=expected_escape_time)\n",
    "        self.is_stuck = False\n",
    "        self.time_until_stuck = self.stuck_pdf.rvs()\n",
    "        self.time_until_escape = self.escape_pdf.rvs()\n",
    "        \n",
    "        self.kidnap_pdf = expon(scale=expected_kidnap_time) \n",
    "        self.time_until_kidnap = self.kidnap_pdf.rvs()\n",
    "        rx, ry = kidnap_range_x, kidnap_range_y\n",
    "        self.kidnap_dist = uniform(loc=(rx[0], ry[0], 0.0), scale=(rx[1]-rx[0], ry[1]-ry[0], 2*math.pi ))\n",
    "        \n",
    "    def noise(self, pose, nu, omega, time_interval):\n",
    "        self.distance_until_noise -= abs(nu)*time_interval + self.r*omega*time_interval\n",
    "        if self.distance_until_noise <= 0.0:\n",
    "            self.distance_until_noise += self.noise_pdf.rvs()\n",
    "            pose[2] += self.theta_noise.rvs()\n",
    "            \n",
    "        return pose\n",
    "        \n",
    "    def bias(self, nu, omega): \n",
    "        return nu*self.bias_rate_nu, omega*self.bias_rate_omega\n",
    "    \n",
    "    def stuck(self, nu, omega, time_interval):\n",
    "        if self.is_stuck:\n",
    "            self.time_until_escape -= time_interval\n",
    "            if self.time_until_escape <= 0.0:\n",
    "                self.time_until_escape += self.escape_pdf.rvs()\n",
    "                self.is_stuck = False\n",
    "        else:            \n",
    "            self.time_until_stuck -= time_interval\n",
    "            if self.time_until_stuck <= 0.0:\n",
    "                self.time_until_stuck += self.stuck_pdf.rvs()\n",
    "                self.is_stuck = True\n",
    "\n",
    "        return nu*(not self.is_stuck), omega*(not self.is_stuck)\n",
    "    \n",
    "    def kidnap(self, pose, time_interval):\n",
    "        self.time_until_kidnap -= time_interval\n",
    "        if self.time_until_kidnap <= 0.0:\n",
    "            self.time_until_kidnap += self.kidnap_pdf.rvs()\n",
    "            return np.array(self.kidnap_dist.rvs()).T\n",
    "        else:\n",
    "            return pose\n",
    "            \n",
    "    def one_step(self, time_interval):\n",
    "        if not self.agent: return\n",
    "        obs = self.sensor.data(self.pose) if self.sensor else None\n",
    "        nu, omega = self.agent.decision(obs)\n",
    "        nu, omega = self.bias(nu, omega)\n",
    "        nu, omega = self.stuck(nu, omega, time_interval)\n",
    "        self.pose = self.state_transition(nu, omega, time_interval, self.pose)\n",
    "        self.pose = self.noise(self.pose, omega, nu, time_interval)\n",
    "        self.pose = self.kidnap(self.pose, time_interval)"
   ]
  },
  {
   "cell_type": "code",
   "execution_count": null,
   "metadata": {},
   "outputs": [],
   "source": [
    "class Camera(IdealCamera): ###camera_first###\n",
    "    def __init__(self, env_map,\n",
    "                 distance_range=(0.5, 6.0),\n",
    "                 direction_range=(-math.pi/3, math.pi/3),\n",
    "                 distance_noise_rate=0.1, direction_noise=math.pi/90): #追加\n",
    "        super().__init__(env_map, distance_range, direction_range) #元のinitを呼び出す\n",
    "        \n",
    "        self.distance_noise_rate = distance_noise_rate #追加\n",
    "        self.direction_noise = direction_noise         #追加"
   ]
  },
  {
   "cell_type": "code",
   "execution_count": null,
   "metadata": {},
   "outputs": [],
   "source": [
    "world = World(30, 0.1)   ###obs_noise_test_first###\n",
    "\n",
    "### 地図を生成して3つランドマークを追加 ###\n",
    "m = Map()                                  \n",
    "m.append_landmark(Landmark(-4,2))\n",
    "m.append_landmark(Landmark(2,-3))\n",
    "m.append_landmark(Landmark(3,3))\n",
    "world.append(m)          \n",
    "\n",
    "### ロボットを作る ###\n",
    "circling = Agent(0.2, 10.0/180*math.pi)  \n",
    "r = Robot( np.array([ 0,0,0]).T, sensor=Camera(m), agent=circling) \n",
    "world.append(r)\n",
    "\n",
    "### アニメーション実行 ###\n",
    "world.draw()"
   ]
  }
 ],
 "metadata": {
  "kernelspec": {
   "display_name": "Python 3",
   "language": "python",
   "name": "python3"
  },
  "language_info": {
   "codemirror_mode": {
    "name": "ipython",
    "version": 3
   },
   "file_extension": ".py",
   "mimetype": "text/x-python",
   "name": "python",
   "nbconvert_exporter": "python",
   "pygments_lexer": "ipython3",
   "version": "3.6.9"
  }
 },
 "nbformat": 4,
 "nbformat_minor": 2
}