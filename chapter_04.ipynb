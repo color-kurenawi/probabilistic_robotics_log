{
 "cells": [
  {
   "cell_type": "markdown",
   "metadata": {},
   "source": [
    "# 第4章 不確かさのモデル化"
   ]
  },
  {
   "cell_type": "code",
   "execution_count": null,
   "metadata": {},
   "outputs": [],
   "source": [
    "import os\n",
    "DATA_DIR = \"LNPR_BOOK_CODES/section_uncertainty/\"\n",
    "os.chdir(DATA_DIR)"
   ]
  },
  {
   "cell_type": "markdown",
   "metadata": {},
   "source": [
    "## 4.1 ノートブックの準備"
   ]
  },
  {
   "cell_type": "code",
   "execution_count": null,
   "metadata": {},
   "outputs": [],
   "source": [
    "import sys                         ###noise_simulation_header###\n",
    "sys.path.append('../scripts/')\n",
    "from ideal_robot import *"
   ]
  },
  {
   "cell_type": "code",
   "execution_count": null,
   "metadata": {},
   "outputs": [],
   "source": [
    "class Robot(IdealRobot):          ###empty_robot###\n",
    "    pass"
   ]
  },
  {
   "cell_type": "code",
   "execution_count": null,
   "metadata": {},
   "outputs": [],
   "source": [
    "world = World(30, 0.1)            ###test_multi_animation###\n",
    "\n",
    "for i in range(100):\n",
    "    circling = Agent(0.2, 10.0/180*math.pi)\n",
    "    r = Robot( np.array([0, 0, 0]).T, sensor=None, agent=circling ) \n",
    "    world.append(r)\n",
    "\n",
    "world.draw()"
   ]
  },
  {
   "cell_type": "markdown",
   "metadata": {},
   "source": [
    "## 4.2 ロボットの移動に対する不確かさの要因の実装"
   ]
  },
  {
   "cell_type": "markdown",
   "metadata": {},
   "source": [
    "### 4.2.1 移動に対して発生する雑音の実装"
   ]
  },
  {
   "cell_type": "code",
   "execution_count": null,
   "metadata": {},
   "outputs": [],
   "source": [
    "import sys                       \n",
    "sys.path.append('../scripts/')\n",
    "from ideal_robot import *\n",
    "from scipy.stats import expon, norm ###spike_noise_header###"
   ]
  },
  {
   "cell_type": "code",
   "execution_count": null,
   "metadata": {},
   "outputs": [],
   "source": [
    "class Robot(IdealRobot):\n",
    "\n",
    "    def __init__(self, pose, agent=None, sensor=None, color=\"black\",\n",
    "                 noise_per_meter=5, noise_std=math.pi/60): \n",
    "        super().__init__(pose, agent, sensor, color)\n",
    "        self.noise_pdf = expon(scale=1.0/(1e-100 + noise_per_meter))\n",
    "        self.distance_until_noise = self.noise_pdf.rvs()\n",
    "        self.theta_noise = norm(scale=noise_std)\n",
    "        \n",
    "    def noise(self, pose, nu, omega, time_interval):\n",
    "        self.distance_until_noise -= abs(nu)*time_interval + self.r*abs(omega)*time_interval\n",
    "        if self.distance_until_noise <= 0.0:\n",
    "            self.distance_until_noise += self.noise_pdf.rvs() #瑣末だけど端数を残しておくために=でなく+=\n",
    "            pose[2] += self.theta_noise.rvs()\n",
    "            \n",
    "        return pose\n",
    "\n",
    "    def one_step(self, time_interval):\n",
    "        if not self.agent: return        \n",
    "        obs =self.sensor.data(self.pose) if self.sensor else None\n",
    "        nu, omega = self.agent.decision(obs)\n",
    "        self.pose = self.state_transition(nu, omega, time_interval, self.pose)\n",
    "        self.pose = self.noise(self.pose, nu, omega, time_interval) #追加"
   ]
  },
  {
   "cell_type": "code",
   "execution_count": null,
   "metadata": {},
   "outputs": [],
   "source": [
    "world = World(30, 0.1)   ###draw_spike_noise###\n",
    "\n",
    "for i in range(100):\n",
    "    circling = Agent(0.2, 10.0/180*math.pi)\n",
    "    r = Robot( np.array([0, 0, 0]).T, sensor=None, agent=circling, color=\"gray\" )  #灰色を指定\n",
    "    world.append(r)\n",
    "\n",
    "world.draw()"
   ]
  }
 ],
 "metadata": {
  "kernelspec": {
   "display_name": "Python 3",
   "language": "python",
   "name": "python3"
  },
  "language_info": {
   "codemirror_mode": {
    "name": "ipython",
    "version": 3
   },
   "file_extension": ".py",
   "mimetype": "text/x-python",
   "name": "python",
   "nbconvert_exporter": "python",
   "pygments_lexer": "ipython3",
   "version": "3.6.9"
  }
 },
 "nbformat": 4,
 "nbformat_minor": 2
}