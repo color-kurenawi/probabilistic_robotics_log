{
 "cells": [
  {
   "cell_type": "markdown",
   "metadata": {},
   "source": [
    "# 第3章 自律ロボットのモデル化"
   ]
  },
  {
   "cell_type": "markdown",
   "metadata": {},
   "source": [
    "## 3.2 ロボットの動き"
   ]
  },
  {
   "cell_type": "markdown",
   "metadata": {},
   "source": [
    "### 3.2.1 世界座標系と描画"
   ]
  },
  {
   "cell_type": "code",
   "execution_count": null,
   "metadata": {},
   "outputs": [],
   "source": [
    "import matplotlib.pyplot as plt ### fig:class_world1"
   ]
  },
  {
   "cell_type": "code",
   "execution_count": null,
   "metadata": {},
   "outputs": [],
   "source": [
    "class World:         \n",
    "    def __init__(self):\n",
    "        self.objects = []             # ここにロボットなどのオブジェクトを登録\n",
    "        \n",
    "    def append(self,obj):             # オブジェクトを登録するための関数\n",
    "        self.objects.append(obj)\n",
    "    \n",
    "    def draw(self):\n",
    "        fig = plt.figure(figsize=(8,8))                # 8x8 inchの図を準備\n",
    "        ax = fig.add_subplot(111)                      # サブプロットを準備\n",
    "        ax.set_aspect('equal')                         # 縦横比を座標の値と一致させる\n",
    "        ax.set_xlim(-5,5)                              # X軸を-5m x 5mの範囲で描画\n",
    "        ax.set_ylim(-5,5)                              # Y軸も同様に\n",
    "        ax.set_xlabel(\"X\",fontsize=20)                 # X軸にラベルを表示\n",
    "        ax.set_ylabel(\"Y\",fontsize=20)                 # 同じくY軸に\n",
    "        \n",
    "        for obj in self.objects: obj.draw(ax)           # appendした物体を次々に描画\n",
    "            \n",
    "        plt.show()"
   ]
  },
  {
   "cell_type": "code",
   "execution_count": null,
   "metadata": {},
   "outputs": [],
   "source": [
    "world = World()     ### fig:class_world3\n",
    "world.draw()"
   ]
  },
  {
   "cell_type": "markdown",
   "metadata": {},
   "source": [
    "### 3.2.2 ロボットの姿勢と描画"
   ]
  },
  {
   "cell_type": "code",
   "execution_count": null,
   "metadata": {},
   "outputs": [],
   "source": [
    "import matplotlib.pyplot as plt                  ### fig:robot_header\n",
    "import math                          #2-4行目を追加\n",
    "import matplotlib.patches as patches\n",
    "import numpy as np"
   ]
  },
  {
   "cell_type": "code",
   "execution_count": null,
   "metadata": {},
   "outputs": [],
   "source": [
    "class World:\n",
    "    def __init__(self):\n",
    "        self.objects = []             # ここにロボットなどのオブジェクトを登録\n",
    "        \n",
    "    def append(self,obj):             # オブジェクトを登録するための関数\n",
    "        self.objects.append(obj)\n",
    "    \n",
    "    def draw(self):\n",
    "        fig = plt.figure(figsize=(8,8))                # 8x8 inchの図を準備\n",
    "        ax = fig.add_subplot(111)                      # サブプロットを準備\n",
    "        ax.set_aspect('equal')                         # 縦横比を座標の値と一致させる\n",
    "        ax.set_xlim(-5,5)                              # X軸を-5m x 5mの範囲で描画\n",
    "        ax.set_ylim(-5,5)                              # Y軸も同様に\n",
    "        ax.set_xlabel(\"X\",fontsize=20)                 # X軸にラベルを表示\n",
    "        ax.set_ylabel(\"Y\",fontsize=20)                 # 同じくY軸に\n",
    "        \n",
    "        for obj in self.objects: obj.draw(ax)           # appendした物体を次々に描画\n",
    "            \n",
    "        plt.show()"
   ]
  },
  {
   "cell_type": "code",
   "execution_count": null,
   "metadata": {},
   "outputs": [],
   "source": [
    "class IdealRobot:                                        # fig:idealrobot\n",
    "    def __init__(self, pose, color=\"black\"):\n",
    "        self.pose = pose        # 引数から姿勢の初期値を設定\n",
    "        self.r = 0.2            # これは描画のためなので固定値\n",
    "        self.color = color      # 引数から描画するときの色を設定\n",
    "        \n",
    "    def draw(self, ax):\n",
    "        x, y, theta = self.pose                   # 姿勢の変数を分解して3つの変数へ\n",
    "        xn = x + self.r * math.cos(theta)         #  ロボットの鼻先のx座標 \n",
    "        yn = y + self.r * math.sin(theta)         #  ロボットの鼻先のy座標 \n",
    "        ax.plot([x,xn], [y,yn], color=self.color) # ロボットの向きを示す線分の描画\n",
    "        c = patches.Circle(xy=(x, y), radius=self.r, fill=False, color=self.color) \n",
    "        ax.add_patch(c) "
   ]
  },
  {
   "cell_type": "code",
   "execution_count": null,
   "metadata": {},
   "outputs": [],
   "source": [
    "world = World()            ### fig:execution_robot_class\n",
    "# world.draw()         # これは削除\n",
    "### 以下追加 ###\n",
    "robot1 = IdealRobot( np.array([2, 3, math.pi/6]).T )           # ロボットのインスタンス生成（色を省略）\n",
    "robot2 = IdealRobot( np.array([-2, -1, math.pi/5*6]).T, \"red\")  # ロボットのインスタンス生成（色を指定）\n",
    "world.append(robot1)                                      # ロボットを登録 \n",
    "world.append(robot2)\n",
    "world.draw()"
   ]
  },
  {
   "cell_type": "markdown",
   "metadata": {},
   "source": [
    "### 3.2.3 アニメーションの導入"
   ]
  },
  {
   "cell_type": "code",
   "execution_count": null,
   "metadata": {},
   "outputs": [],
   "source": [
    "import matplotlib                   #追加   ### fig:add_animation_module (1〜3行目) \n",
    "matplotlib.use('nbagg')             #追加 \n",
    "import matplotlib.animation as anm  #追加\n",
    "import matplotlib.pyplot as plt\n",
    "import math\n",
    "import matplotlib.patches as patches\n",
    "import numpy as np"
   ]
  },
  {
   "cell_type": "code",
   "execution_count": null,
   "metadata": {},
   "outputs": [],
   "source": [
    "class World:                          ### fig:animation_prepare\n",
    "    def __init__(self, debug=False): #デバッグ用のフラグを追加\n",
    "        self.objects = [] \n",
    "        self.debug = debug #追加\n",
    "        \n",
    "    def append(self,obj): \n",
    "        self.objects.append(obj)\n",
    "    \n",
    "    def draw(self):\n",
    "        fig = plt.figure(figsize=(4,4))     #10〜16行目はそのまま\n",
    "        ax = fig.add_subplot(111)\n",
    "        ax.set_aspect('equal')\n",
    "        ax.set_xlim(-5,5)\n",
    "        ax.set_ylim(-5,5)\n",
    "        ax.set_xlabel(\"X\",fontsize=10)\n",
    "        ax.set_ylabel(\"Y\",fontsize=10)\n",
    "        \n",
    "        elems = []\n",
    "        \n",
    "        if self.debug:        \n",
    "            for i in range(1000): self.one_step(i, elems, ax) #デバッグ時はアニメーションさせない\n",
    "        else:\n",
    "            self.ani = anm.FuncAnimation(fig, self.one_step, fargs=(elems, ax), frames=10, interval=1000, repeat=False)    \n",
    "            plt.show()\n",
    "        \n",
    "    def one_step(self, i, elems, ax):\n",
    "        pass"
   ]
  },
  {
   "cell_type": "code",
   "execution_count": null,
   "metadata": {},
   "outputs": [],
   "source": [
    "class IdealRobot:\n",
    "    def __init__(self, pose, color=\"black\"):\n",
    "        self.pose = pose        # 引数から姿勢の初期値を設定\n",
    "        self.r = 0.2            # これは描画のためなので固定値\n",
    "        self.color = color      # 引数から描画するときの色を設定\n",
    "    \n",
    "    def draw(self, ax):\n",
    "        x, y, theta = self.pose                   # 姿勢の変数を分解して3つの変数へ\n",
    "        xn = x + self.r * math.cos(theta)         #  ロボットの鼻先のx座標 \n",
    "        yn = y + self.r * math.sin(theta)         #  ロボットの鼻先のy座標 \n",
    "        ax.plot([x,xn], [y,yn], color=self.color) # ロボットの向きを示す線分の描画\n",
    "        c = patches.Circle(xy=(x, y), radius=self.r, fill=False, color=self.color) \n",
    "        ax.add_patch(c)   # 上のpatches.Circleでロボットの胴体を示す円を作ってサブプロットへ登録"
   ]
  },
  {
   "cell_type": "code",
   "execution_count": null,
   "metadata": {},
   "outputs": [],
   "source": [
    "world = World(debug=False)        \n",
    "\n",
    "robot1 = IdealRobot( np.array([2, 3, math.pi/6]).T )           # ロボットのインスタンス生成（色を省略）\n",
    "robot2 = IdealRobot( np.array([-2, -1, math.pi/5*6]).T, \"red\")  # ロボットのインスタンス生成（色を指定）\n",
    "world.append(robot1)                                      # ロボットを登録 \n",
    "world.append(robot2)\n",
    "world.draw()"
   ]
  },
  {
   "cell_type": "code",
   "execution_count": null,
   "metadata": {},
   "outputs": [],
   "source": [
    "import matplotlib\n",
    "matplotlib.use('nbagg')\n",
    "import matplotlib.animation as anm\n",
    "import matplotlib.pyplot as plt\n",
    "import math\n",
    "import matplotlib.patches as patches\n",
    "import numpy as np"
   ]
  },
  {
   "cell_type": "code",
   "execution_count": null,
   "metadata": {},
   "outputs": [],
   "source": [
    "class World:\n",
    "    def __init__(self, debug=False):\n",
    "        self.objects = [] \n",
    "        self.debug = debug\n",
    "        \n",
    "    def append(self,obj):\n",
    "        self.objects.append(obj)\n",
    "    \n",
    "    def draw(self):\n",
    "        fig = plt.figure(figsize=(4,4))  \n",
    "        ax = fig.add_subplot(111)  \n",
    "        ax.set_aspect('equal') \n",
    "        ax.set_xlim(-5,5) \n",
    "        ax.set_ylim(-5,5) \n",
    "        ax.set_xlabel(\"X\",fontsize=10) \n",
    "        ax.set_ylabel(\"Y\",fontsize=10)  \n",
    "        \n",
    "        elems = []\n",
    "        time_increment = 0.1\n",
    "        \n",
    "        if self.debug:        \n",
    "            for i in range(1000): self.one_step(i, elems, ax) \n",
    "        else:\n",
    "            self.ani = anm.FuncAnimation(fig, self.one_step, fargs=(elems, ax), frames=100, interval=1000, repeat=False)\n",
    "            plt.show()\n",
    "        \n",
    "    def one_step(self, i, elems, ax):    ### fig:one_step1 (27-29行目) fig:one_step2 （27-31行目） \n",
    "        while elems: elems.pop().remove()\n",
    "        elems.append(ax.text(-4.4, 4.5, \"t = \"+str(i), fontsize=10)) #座標ベタ書きが気になるなら変数に\n",
    "        for obj in self.objects: # 追加\n",
    "            obj.draw(ax, elems)  # 追加"
   ]
  },
  {
   "cell_type": "code",
   "execution_count": null,
   "metadata": {},
   "outputs": [],
   "source": [
    "class IdealRobot:\n",
    "    def __init__(self, pose, color=\"black\"):\n",
    "        self.pose = pose\n",
    "        self.r = 0.2\n",
    "        self.color = color\n",
    "    \n",
    "    def draw(self, ax, elems):                ### fig:append_elements (7-13行目)\n",
    "        x, y, theta = self.pose\n",
    "        xn = x + self.r * math.cos(theta)\n",
    "        yn = y + self.r * math.sin(theta)\n",
    "        elems += ax.plot([x,xn], [y,yn], color=self.color) # elems += を追加\n",
    "        c = patches.Circle(xy=(x, y), radius=self.r, fill=False, color=self.color) # c = を追加\n",
    "        elems.append(ax.add_patch(c))   # elem.appendで包む"
   ]
  },
  {
   "cell_type": "code",
   "execution_count": null,
   "metadata": {},
   "outputs": [],
   "source": [
    "world = World(debug=True)        \n",
    "\n",
    "robot1 = IdealRobot( np.array([2, 3, math.pi/6]).T )           # ロボットのインスタンス生成（色を省略）\n",
    "robot2 = IdealRobot( np.array([-2, -1, math.pi/5*6]).T, \"red\")  # ロボットのインスタンス生成（色を指定）\n",
    "world.append(robot1)                                      # ロボットを登録 \n",
    "world.append(robot2)\n",
    "world.draw()"
   ]
  },
  {
   "cell_type": "markdown",
   "metadata": {},
   "source": [
    "### ロボットの運動と状態方程式"
   ]
  },
  {
   "cell_type": "code",
   "execution_count": null,
   "metadata": {},
   "outputs": [],
   "source": [
    "import matplotlib\n",
    "matplotlib.use('nbagg')\n",
    "import matplotlib.animation as anm\n",
    "import matplotlib.pyplot as plt\n",
    "import math\n",
    "import matplotlib.patches as patches\n",
    "import numpy as np"
   ]
  },
  {
   "cell_type": "code",
   "execution_count": null,
   "metadata": {},
   "outputs": [],
   "source": [
    "class World:\n",
    "    def __init__(self, debug=False):\n",
    "        self.objects = [] \n",
    "        self.debug = debug\n",
    "        \n",
    "    def append(self,obj):             # オブジェクトを登録するための関数\n",
    "        self.objects.append(obj)\n",
    "    \n",
    "    def draw(self):\n",
    "        fig = plt.figure(figsize=(4,4))                # 8x8 inchの図を準備\n",
    "        ax = fig.add_subplot(111)                      # サブプロットを準備\n",
    "        ax.set_aspect('equal')                         # 縦横比を座標の値と一致させる\n",
    "        ax.set_xlim(-5,5)                              # X軸を-5m x 5mの範囲で描画\n",
    "        ax.set_ylim(-5,5)                              # Y軸も同様に\n",
    "        ax.set_xlabel(\"X\",fontsize=10)                 # X軸にラベルを表示\n",
    "        ax.set_ylabel(\"Y\",fontsize=10)                 # 同じくY軸に\n",
    "        \n",
    "        elems = []\n",
    "        \n",
    "        if self.debug:        \n",
    "            for i in range(1000): self.one_step(i, elems, ax) \n",
    "        else:\n",
    "            self.ani = anm.FuncAnimation(fig, self.one_step, fargs=(elems, ax), frames=100, interval=1000, repeat=False)\n",
    "            plt.show()\n",
    "        \n",
    "    def one_step(self, i, elems, ax):    ### fig:one_step_add_one_step \n",
    "        while elems: elems.pop().remove()\n",
    "        elems.append(ax.text(-4.4, 4.5, \"t = \"+str(i), fontsize=10)) \n",
    "        for obj in self.objects:\n",
    "            obj.draw(ax, elems)\n",
    "            if hasattr(obj, \"one_step\"): obj.one_step(1.0)     # 追加"
   ]
  },
  {
   "cell_type": "code",
   "execution_count": null,
   "metadata": {},
   "outputs": [],
   "source": [
    "class IdealRobot:                         ### fig:rewrite_init_for_agent \n",
    "    def __init__(self, pose, agent=None, color=\"black\"):  # agentという引数を追加\n",
    "        self.pose = pose \n",
    "        self.r = 0.2 \n",
    "        self.color = color \n",
    "        self.agent = agent   # 追加\n",
    "        self.poses = [pose]         # 軌跡の描画用。追加\n",
    "    \n",
    "    def draw(self, ax, elems):  ###idealrobot6draw\n",
    "        x, y, theta = self.pose   #ここから15行目までは変えなくて良い\n",
    "        xn = x + self.r * math.cos(theta) \n",
    "        yn = y + self.r * math.sin(theta)  \n",
    "        elems += ax.plot([x,xn], [y,yn], color=self.color) \n",
    "        c = patches.Circle(xy=(x, y), radius=self.r, fill=False, color=self.color) \n",
    "        elems.append(ax.add_patch(c))\n",
    "        \n",
    "        self.poses.append(self.pose) #以下追加。軌跡の描画\n",
    "        elems += ax.plot([e[0] for e in self.poses], [e[1] for e in self.poses], linewidth=0.5, color=\"black\")\n",
    "            \n",
    "    @classmethod\n",
    "    def state_transition(cls, nu, omega, time, pose):    ### fig:state_transition(20-35行目)\n",
    "        t0 = pose[2]\n",
    "        if math.fabs(omega) < 1e-10: #角速度がほぼゼロの場合とそうでない場合で場合分け\n",
    "            return pose + np.array( [nu*math.cos(t0), \n",
    "                                     nu*math.sin(t0),\n",
    "                                     omega ] ) * time\n",
    "        else:\n",
    "            return pose + np.array( [nu/omega*(math.sin(t0 + omega*time) - math.sin(t0)), \n",
    "                                     nu/omega*(-math.cos(t0 + omega*time) + math.cos(t0)),\n",
    "                                     omega*time ] )\n",
    "\n",
    "    def one_step(self, time_interval):            ### fig:robot_one_step\n",
    "        if not self.agent: return\n",
    "        nu, omega = self.agent.decision()\n",
    "        self.pose = self.state_transition(nu, omega, time_interval, self.pose)"
   ]
  },
  {
   "cell_type": "code",
   "execution_count": null,
   "metadata": {},
   "outputs": [],
   "source": [
    "## 原点から0.1[m/s]で1[s]直進 ##          ### fig:using_state_transition（セル6まで）\n",
    "IdealRobot.state_transition(0.1, 0.0, 1.0, np.array([0,0,0]).T) "
   ]
  },
  {
   "cell_type": "code",
   "execution_count": null,
   "metadata": {},
   "outputs": [],
   "source": [
    "## 原点から0.1[m/s], 10[deg/s]で9[s]移動 ## \n",
    "IdealRobot.state_transition(0.1, 10.0/180*math.pi, 9.0, np.array([0,0,0]).T)"
   ]
  },
  {
   "cell_type": "code",
   "execution_count": null,
   "metadata": {},
   "outputs": [],
   "source": [
    "## 原点から0.1[m/s], 10[deg/s]で18[s]移動 ##\n",
    "IdealRobot.state_transition(0.1, 10.0/180*math.pi, 18.0, np.array([0,0,0]).T)"
   ]
  },
  {
   "cell_type": "markdown",
   "metadata": {},
   "source": [
    "### 3.2.5 エージェントの実装"
   ]
  },
  {
   "cell_type": "code",
   "execution_count": null,
   "metadata": {},
   "outputs": [],
   "source": [
    "import matplotlib\n",
    "%matplotlib inline\n",
    "matplotlib.use('nbagg')\n",
    "import matplotlib.animation as anm\n",
    "import matplotlib.pyplot as plt\n",
    "import math\n",
    "import matplotlib.patches as patches\n",
    "import numpy as np"
   ]
  },
  {
   "cell_type": "code",
   "execution_count": null,
   "metadata": {},
   "outputs": [],
   "source": [
    "class World:\n",
    "    def __init__(self, debug=False):\n",
    "        self.objects = [] \n",
    "        self.debug = debug\n",
    "        \n",
    "    def append(self,obj):             # オブジェクトを登録するための関数\n",
    "        self.objects.append(obj)\n",
    "    \n",
    "    def draw(self):\n",
    "        fig = plt.figure(figsize=(4,4))                # 8x8 inchの図を準備\n",
    "        ax = fig.add_subplot(111)                      # サブプロットを準備\n",
    "        ax.set_aspect('equal')                         # 縦横比を座標の値と一致させる\n",
    "        ax.set_xlim(-5,5)                              # X軸を-5m x 5mの範囲で描画\n",
    "        ax.set_ylim(-5,5)                              # Y軸も同様に\n",
    "        ax.set_xlabel(\"X\",fontsize=10)                 # X軸にラベルを表示\n",
    "        ax.set_ylabel(\"Y\",fontsize=10)                 # 同じくY軸に\n",
    "        \n",
    "        elems = []\n",
    "        \n",
    "        if self.debug:        \n",
    "            for i in range(1000): self.one_step(i, elems, ax) \n",
    "        else:\n",
    "            self.ani = anm.FuncAnimation(fig, self.one_step, fargs=(elems, ax), frames=100, interval=1000, repeat=False)\n",
    "            plt.show()\n",
    "        \n",
    "    def one_step(self, i, elems, ax):    ### fig:one_step_add_one_step \n",
    "        while elems: elems.pop().remove()\n",
    "        elems.append(ax.text(-4.4, 4.5, \"t = \"+str(i), fontsize=10)) \n",
    "        for obj in self.objects:\n",
    "            obj.draw(ax, elems)\n",
    "            if hasattr(obj, \"one_step\"): obj.one_step(1.0)     # 追加"
   ]
  },
  {
   "cell_type": "code",
   "execution_count": null,
   "metadata": {},
   "outputs": [],
   "source": [
    "class IdealRobot:                         ### fig:rewrite_init_for_agent \n",
    "    def __init__(self, pose, agent=None, color=\"black\"):  # agentという引数を追加\n",
    "        self.pose = pose \n",
    "        self.r = 0.2 \n",
    "        self.color = color \n",
    "        self.agent = agent   # 追加\n",
    "        self.poses = [pose]         # 軌跡の描画用。追加\n",
    "    \n",
    "    def draw(self, ax, elems):  ###idealrobot6draw\n",
    "        x, y, theta = self.pose   #ここから15行目までは変えなくて良い\n",
    "        xn = x + self.r * math.cos(theta) \n",
    "        yn = y + self.r * math.sin(theta)  \n",
    "        elems += ax.plot([x,xn], [y,yn], color=self.color) \n",
    "        c = patches.Circle(xy=(x, y), radius=self.r, fill=False, color=self.color) \n",
    "        elems.append(ax.add_patch(c))\n",
    "        \n",
    "        self.poses.append(self.pose) #以下追加。軌跡の描画\n",
    "        elems += ax.plot([e[0] for e in self.poses], [e[1] for e in self.poses], linewidth=0.5, color=\"black\")\n",
    "            \n",
    "    @classmethod\n",
    "    def state_transition(cls, nu, omega, time, pose):    ### fig:state_transition(20-35行目)\n",
    "        t0 = pose[2]\n",
    "        if math.fabs(omega) < 1e-10: #角速度がほぼゼロの場合とそうでない場合で場合分け\n",
    "            return pose + np.array( [nu*math.cos(t0), \n",
    "                                     nu*math.sin(t0),\n",
    "                                     omega ] ) * time\n",
    "        else:\n",
    "            return pose + np.array( [nu/omega*(math.sin(t0 + omega*time) - math.sin(t0)), \n",
    "                                     nu/omega*(-math.cos(t0 + omega*time) + math.cos(t0)),\n",
    "                                     omega*time ] )\n",
    "\n",
    "    def one_step(self, time_interval):            ### fig:robot_one_step\n",
    "        if not self.agent: return\n",
    "        nu, omega = self.agent.decision()\n",
    "        self.pose = self.state_transition(nu, omega, time_interval, self.pose)"
   ]
  },
  {
   "cell_type": "code",
   "execution_count": null,
   "metadata": {},
   "outputs": [],
   "source": [
    "class Agent:                        ### fig:Agent\n",
    "    def __init__(self, nu, omega):\n",
    "        self.nu = nu\n",
    "        self.omega = omega\n",
    "        \n",
    "    def decision(self, observation=None):\n",
    "        return self.nu, self.omega"
   ]
  },
  {
   "cell_type": "code",
   "execution_count": null,
   "metadata": {},
   "outputs": [],
   "source": [
    "world = World()                                                                                                                       ### fig:rewrite_robot_for_agent\n",
    "straight = Agent(0.2, 0.0)                # 0.2[m/s]で直進     \n",
    "circling = Agent(0.2, 10.0/180*math.pi)   # 0.2[m/s], 10[deg/s]（円を描く）\n",
    "robot1 = IdealRobot( np.array([ 2, 3, math.pi/6]).T,    straight )  \n",
    "robot2 = IdealRobot( np.array([-2, -1, math.pi/5*6]).T, circling, \"red\")  \n",
    "robot3 = IdealRobot( np.array([ 0, 0, 0]).T, color=\"blue\")     # エージェントを与えないロボット\n",
    "world.append(robot1)\n",
    "world.append(robot2)\n",
    "world.append(robot3)\n",
    "world.draw()"
   ]
  }
 ],
 "metadata": {
  "kernelspec": {
   "name": "python3",
   "display_name": "Python 3.6.9 64-bit",
   "metadata": {
    "interpreter": {
     "hash": "aee8b7b246df8f9039afb4144a1f6fd8d2ca17a180786b69acc140d282b71a49"
    }
   }
  },
  "language_info": {
   "codemirror_mode": {
    "name": "ipython",
    "version": 3
   },
   "file_extension": ".py",
   "mimetype": "text/x-python",
   "name": "python",
   "nbconvert_exporter": "python",
   "pygments_lexer": "ipython3",
   "version": "3.6.9-final"
  }
 },
 "nbformat": 4,
 "nbformat_minor": 2
}