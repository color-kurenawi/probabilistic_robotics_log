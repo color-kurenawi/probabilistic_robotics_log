{
 "metadata": {
  "language_info": {
   "codemirror_mode": {
    "name": "ipython",
    "version": 3
   },
   "file_extension": ".py",
   "mimetype": "text/x-python",
   "name": "python",
   "nbconvert_exporter": "python",
   "pygments_lexer": "ipython3",
   "version": "3.6.9-final"
  },
  "orig_nbformat": 2,
  "kernelspec": {
   "name": "python3",
   "display_name": "Python 3",
   "language": "python"
  }
 },
 "nbformat": 4,
 "nbformat_minor": 2,
 "cells": [
  {
   "source": [
    "# 第2章 確率・統計の基礎"
   ],
   "cell_type": "markdown",
   "metadata": {}
  },
  {
   "cell_type": "code",
   "execution_count": null,
   "metadata": {},
   "outputs": [],
   "source": [
    "import os\n",
    "DATA_DIR = \"LNPR_BOOK_CODES/sensor_data/\"\n",
    "os.chdir(DATA_DIR)"
   ]
  },
  {
   "source": [
    "## 2.1 センサデータの収集とJupyter Notebook上での準備"
   ],
   "cell_type": "markdown",
   "metadata": {}
  },
  {
   "cell_type": "code",
   "execution_count": null,
   "metadata": {},
   "outputs": [],
   "source": [
    "import pandas as pd\n",
    "data  = pd.read_csv(\"sensor_data_200.txt\", delimiter=\" \", \n",
    "                    header=None, names = (\"date\",\"time\",\"ir\",\"lidar\"))\n",
    "data"
   ]
  },
  {
   "cell_type": "code",
   "execution_count": null,
   "metadata": {},
   "outputs": [],
   "source": [
    "print(data[\"lidar\"][0:5])"
   ]
  },
  {
   "source": [
    "## 2.2 度数分布と確率分布"
   ],
   "cell_type": "markdown",
   "metadata": {}
  },
  {
   "source": [
    "### 2.2.1 ヒストグラムの描画"
   ],
   "cell_type": "markdown",
   "metadata": {}
  },
  {
   "cell_type": "code",
   "execution_count": null,
   "metadata": {},
   "outputs": [],
   "source": [
    "import matplotlib.pyplot as plt\n",
    "data[\"lidar\"].hist(bins=max(data[\"lidar\"])-min(data[\"lidar\"]), align=\"left\")\n",
    "plt.show()"
   ]
  }
 ]
}