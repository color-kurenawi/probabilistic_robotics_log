{
 "metadata": {
  "language_info": {
   "codemirror_mode": {
    "name": "ipython",
    "version": 3
   },
   "file_extension": ".py",
   "mimetype": "text/x-python",
   "name": "python",
   "nbconvert_exporter": "python",
   "pygments_lexer": "ipython3",
   "version": "3.6.9-final"
  },
  "orig_nbformat": 2,
  "kernelspec": {
   "name": "python3",
   "display_name": "Python 3",
   "language": "python"
  }
 },
 "nbformat": 4,
 "nbformat_minor": 2,
 "cells": [
  {
   "source": [
    "# 第2章 確率・統計の基礎"
   ],
   "cell_type": "markdown",
   "metadata": {}
  },
  {
   "cell_type": "code",
   "execution_count": null,
   "metadata": {},
   "outputs": [],
   "source": [
    "import os\n",
    "DATA_DIR = \"LNPR_BOOK_CODES/sensor_data/\"\n",
    "os.chdir(DATA_DIR)"
   ]
  },
  {
   "source": [
    "## 2.1 センサデータの収集とJupyter Notebook上での準備"
   ],
   "cell_type": "markdown",
   "metadata": {}
  },
  {
   "cell_type": "code",
   "execution_count": null,
   "metadata": {},
   "outputs": [],
   "source": [
    "import pandas as pd\n",
    "data  = pd.read_csv(\"sensor_data_200.txt\", delimiter=\" \", \n",
    "                    header=None, names = (\"date\",\"time\",\"ir\",\"lidar\"))\n",
    "data"
   ]
  },
  {
   "cell_type": "code",
   "execution_count": null,
   "metadata": {},
   "outputs": [],
   "source": [
    "print(data[\"lidar\"][0:5])"
   ]
  },
  {
   "source": [
    "## 2.2 度数分布と確率分布"
   ],
   "cell_type": "markdown",
   "metadata": {}
  },
  {
   "source": [
    "### 2.2.1 ヒストグラムの描画"
   ],
   "cell_type": "markdown",
   "metadata": {}
  },
  {
   "cell_type": "code",
   "execution_count": null,
   "metadata": {},
   "outputs": [],
   "source": [
    "import matplotlib.pyplot as plt\n",
    "data[\"lidar\"].hist(bins=max(data[\"lidar\"])-min(data[\"lidar\"]), align=\"left\")\n",
    "plt.show()"
   ]
  },
  {
   "source": [
    "### 2.2.3 雑音の数値化"
   ],
   "cell_type": "markdown",
   "metadata": {}
  },
  {
   "cell_type": "code",
   "execution_count": null,
   "metadata": {},
   "outputs": [],
   "source": [
    "mean1 = sum(data[\"lidar\"].values)/len(data[\"lidar\"].values)\n",
    "mean2 = data[\"lidar\"].mean()\n",
    "print(\"素朴な方法\")\n",
    "print(mean1)\n",
    "print(\"pandasのメソッド\")\n",
    "print(mean2)"
   ]
  },
  {
   "cell_type": "code",
   "execution_count": null,
   "metadata": {},
   "outputs": [],
   "source": [
    "data[\"lidar\"].hist(bins = max(data[\"lidar\"]) - min(data[\"lidar\"]),color=\"orange\",align='left')   ###avgplot###\n",
    "plt.vlines(mean1,ymin=0,ymax=5000,color=\"red\")\n",
    "plt.show()"
   ]
  },
  {
   "cell_type": "code",
   "execution_count": null,
   "metadata": {},
   "outputs": [],
   "source": [
    "# 定義から計算　                     ### calcvar\n",
    "zs = data[\"lidar\"].values  \n",
    "mean = sum(zs)/len(zs)\n",
    "diff_square = [ (z - mean)**2 for z in zs]\n",
    "\n",
    "sampling_var = sum(diff_square)/(len(zs))     # 標本分散\n",
    "unbiased_var = sum(diff_square)/(len(zs)-1) # 不偏分散\n",
    "\n",
    "print(\"素朴な方法\")\n",
    "print(\"標本分散\", sampling_var)\n",
    "print(\"不偏分散\", unbiased_var)\n",
    "\n",
    "# Pandasを使用\n",
    "pandas_sampling_var = data[\"lidar\"].var(ddof=False) # 標本分散\n",
    "pandas_default_var = data[\"lidar\"].var()        # デフォルト（不偏分散）\n",
    "\n",
    "print(\"Pandasのメソッド\")\n",
    "print(\"標本分散\",pandas_sampling_var)\n",
    "print(\"不偏分散\", pandas_default_var)\n",
    "\n",
    "# NumPyを使用\n",
    "import numpy as np\n",
    "\n",
    "numpy_default_var = np.var(data[\"lidar\"])  # デフォルト（標本分散）\n",
    "numpy_unbiased_var = np.var(data[\"lidar\"], ddof=1)  # 不偏分散\n",
    "\n",
    "print(\"Numpyのメソッド\")\n",
    "print(\"標本分散\", numpy_default_var)\n",
    "print(\"不偏分散\", numpy_unbiased_var)"
   ]
  },
  {
   "cell_type": "code",
   "execution_count": null,
   "metadata": {},
   "outputs": [],
   "source": [
    "import math ###  calcstddev\n",
    "\n",
    "# 定義から計算\n",
    "stddev1 = math.sqrt(sampling_var)\n",
    "stddev2 = math.sqrt(unbiased_var)\n",
    "\n",
    "# Pandasを使用 \n",
    "pandas_stddev = data[\"lidar\"].std()\n",
    "\n",
    "print(\"素朴な方法\")\n",
    "print(\"標本分散を利用\", stddev1)\n",
    "print(\"不偏分散を利用\", stddev2)\n",
    "print(\"Pandasのメソッド\", pandas_stddev)"
   ]
  },
  {
   "source": [
    "### 2.2.4 (素朴な)確率分布"
   ],
   "cell_type": "markdown",
   "metadata": {}
  },
  {
   "cell_type": "code",
   "execution_count": null,
   "metadata": {},
   "outputs": [],
   "source": [
    "freqs = pd.DataFrame(data[\"lidar\"].value_counts())  ###freqs###\n",
    "freqs.transpose() #横向きに出力"
   ]
  },
  {
   "cell_type": "code",
   "execution_count": null,
   "metadata": {},
   "outputs": [],
   "source": [
    "freqs[\"probs\"] = freqs[\"lidar\"]/len(data[\"lidar\"]) ###addprobs###\n",
    "freqs.transpose()"
   ]
  },
  {
   "cell_type": "code",
   "execution_count": null,
   "metadata": {},
   "outputs": [],
   "source": [
    "sum(freqs[\"probs\"])  ###confirmsum###"
   ]
  },
  {
   "cell_type": "code",
   "execution_count": null,
   "metadata": {},
   "outputs": [],
   "source": [
    "freqs[\"probs\"].sort_index().plot.bar(color=\"blue\")   ###probdist###\n",
    "plt.show()"
   ]
  },
  {
   "source": [
    "### 2.2.5 確率分布を用いたシミュレーション"
   ],
   "cell_type": "markdown",
   "metadata": {}
  },
  {
   "cell_type": "code",
   "execution_count": null,
   "metadata": {},
   "outputs": [],
   "source": [
    "def drawing(): #ややこしいので関数として定義  ###one_sampling###\n",
    "    return freqs.sample(n=1, weights=\"probs\").index[0]\n",
    "\n",
    "drawing() # 実行"
   ]
  },
  {
   "cell_type": "code",
   "execution_count": null,
   "metadata": {},
   "outputs": [],
   "source": [
    "# samples = [ drawing() for i in range(len(data))] ### sampling_simulation ###\n",
    "samples = [ drawing() for i in range(1000)] #コーディング中は1行目の代わりにこちらを使う\n",
    "simulated = pd.DataFrame(samples, columns=[\"lidar\"])\n",
    "p = simulated[\"lidar\"]\n",
    "p.hist(bins = max(p) - min(p),color=\"orange\",align='left')  \n",
    "plt.show()"
   ]
  },
  {
   "source": [
    "## 2.3 確率モデル"
   ],
   "cell_type": "markdown",
   "metadata": {}
  },
  {
   "source": [
    "### 2.3.1 ガウス分布の当てはめ"
   ],
   "cell_type": "markdown",
   "metadata": {}
  },
  {
   "cell_type": "code",
   "execution_count": null,
   "metadata": {},
   "outputs": [],
   "source": [
    "def p(z, mu=209.7, dev=23.4):   ###pdf_from_def###\n",
    "    return math.exp(-(z - mu)**2/(2*dev))/math.sqrt(2*math.pi*dev)\n"
   ]
  },
  {
   "cell_type": "code",
   "execution_count": null,
   "metadata": {},
   "outputs": [],
   "source": [
    "zs = range(190,230)   ###pdf_plot_from_def###\n",
    "ys = [p(z) for z in zs]\n",
    "\n",
    "plt.plot(zs,ys)\n",
    "plt.show()"
   ]
  },
  {
   "cell_type": "code",
   "execution_count": null,
   "metadata": {},
   "outputs": [],
   "source": [
    "def prob(z,width=0.5):                                     ###prob_plot_from_def###\n",
    "    return width*( p(z-width) + p(z+width) )\n",
    "\n",
    "zs = range(190,230)\n",
    "ys = [prob(z) for z in zs]\n",
    "\n",
    "plt.bar(zs,ys, color=\"red\", alpha=0.5) #alphaでグラフを透明にできる\n",
    "f = freqs[\"probs\"].sort_index()\n",
    "plt.bar(f.index, f.values, color=\"blue\", alpha=0.5)\n",
    "plt.show()"
   ]
  },
  {
   "source": [
    "### 2.3.2 確率密度関数"
   ],
   "cell_type": "markdown",
   "metadata": {}
  },
  {
   "cell_type": "code",
   "execution_count": null,
   "metadata": {},
   "outputs": [],
   "source": [
    "from scipy.stats import norm\n",
    "\n",
    "zs = range(190, 230)\n",
    "ys = [norm.pdf(z, mean1, stddev1) for z in zs]\n",
    "\n",
    "plt.plot(zs, ys)\n",
    "plt.show()"
   ]
  },
  {
   "cell_type": "code",
   "execution_count": null,
   "metadata": {},
   "outputs": [],
   "source": [
    "zs = range(190, 230)\n",
    "ys = [norm.cdf(z, mean1, stddev1) for z in zs]\n",
    "\n",
    "plt.plot(zs, ys, color=\"red\")\n",
    "plt.show()"
   ]
  },
  {
   "cell_type": "code",
   "execution_count": null,
   "metadata": {},
   "outputs": [],
   "source": [
    "zs = range(190, 230)\n",
    "ys = [norm.cdf(z+0.5, mean1, stddev1) - norm.cdf(z-0.5, mean1, stddev1) for z in zs]\n",
    "\n",
    "plt.bar(zs, ys)\n",
    "plt.show()"
   ]
  },
  {
   "source": [
    "### 2.3.3 期待値"
   ],
   "cell_type": "markdown",
   "metadata": {}
  },
  {
   "cell_type": "code",
   "execution_count": null,
   "metadata": {},
   "outputs": [],
   "source": [
    "import random\n",
    "\n",
    "samples = [random.choice([1,2,3,4,5,6]) for i in range(10000)]\n",
    "sum(samples) / len(samples)"
   ]
  },
  {
   "source": [
    "## 2.4 複雑な分布"
   ],
   "cell_type": "markdown",
   "metadata": {}
  },
  {
   "source": [
    "### 2.4.1 条件付き確率"
   ],
   "cell_type": "markdown",
   "metadata": {}
  },
  {
   "cell_type": "code",
   "execution_count": null,
   "metadata": {},
   "outputs": [],
   "source": [
    "import pandas as pd       ###hist_600###\n",
    "import matplotlib.pyplot as plt\n",
    "\n",
    "data  = pd.read_csv(\"sensor_data_600.txt\", delimiter=\" \",\n",
    "                    header=None, names = (\"date\",\"time\",\"ir\",\"lidar\"))\n",
    "\n",
    "data[\"lidar\"].hist(bins = max(data[\"lidar\"]) - min(data[\"lidar\"]),align='left')\n",
    "plt.show()"
   ]
  },
  {
   "cell_type": "code",
   "execution_count": null,
   "metadata": {},
   "outputs": [],
   "source": [
    "data.lidar.plot() ###plot_all_data##\n",
    "plt.show()"
   ]
  },
  {
   "cell_type": "code",
   "execution_count": null,
   "metadata": {},
   "outputs": [],
   "source": [
    "data.ir.plot()\n",
    "plt.show()"
   ]
  },
  {
   "cell_type": "code",
   "execution_count": null,
   "metadata": {},
   "outputs": [],
   "source": [
    "data[\"hour\"] = [e//10000 for e in data.time]  ###hourly_mean###\n",
    "d = data.groupby(\"hour\")\n",
    "d.lidar.mean().plot()\n",
    "plt.show()"
   ]
  },
  {
   "cell_type": "code",
   "execution_count": null,
   "metadata": {},
   "outputs": [],
   "source": [
    "d.lidar.get_group(6).hist()     ###two_mode_hist###\n",
    "d.lidar.get_group(14).hist()\n",
    "plt.show()"
   ]
  },
  {
   "source": [
    "### 2.4.2 同時確率と加法定理，乗法定理"
   ],
   "cell_type": "markdown",
   "metadata": {}
  },
  {
   "cell_type": "code",
   "execution_count": null,
   "metadata": {},
   "outputs": [],
   "source": [
    "each_hour = { i : d.lidar.get_group(i).value_counts().sort_index()  for i in range(24)} #時間ごとにデータフレームを作成  ###calc_joint_probs\n",
    "freqs = pd.concat(each_hour, axis=1) #concatで連結\n",
    "freqs = freqs.fillna(0)     #欠損値(NaN)を0で埋める\n",
    "probs = freqs/len(data) #頻度を確率で\n",
    "\n",
    "probs #表示"
   ]
  },
  {
   "cell_type": "code",
   "execution_count": null,
   "metadata": {},
   "outputs": [],
   "source": [
    "import seaborn as sns   ###2d_hist （下のセルも）\n",
    "\n",
    "sns.heatmap(probs)\n",
    "plt.show()"
   ]
  },
  {
   "cell_type": "code",
   "execution_count": null,
   "metadata": {},
   "outputs": [],
   "source": [
    "sns.jointplot(data[\"hour\"], data[\"lidar\"], data, kind=\"kde\")\n",
    "plt.show()"
   ]
  },
  {
   "cell_type": "code",
   "execution_count": null,
   "metadata": {},
   "outputs": [],
   "source": [
    "p_t = pd.DataFrame(probs.sum())   #各列を合計   \n",
    "p_t.plot()\n",
    "p_t.transpose() #紙面の関係で表を横並びに"
   ]
  },
  {
   "cell_type": "code",
   "execution_count": null,
   "metadata": {},
   "outputs": [],
   "source": [
    "p_t.sum()    # 1になる"
   ]
  },
  {
   "cell_type": "code",
   "execution_count": null,
   "metadata": {},
   "outputs": [],
   "source": [
    "p_z = pd.DataFrame(probs.transpose().sum())        #行と列を転置して各列を合計\n",
    "p_z.plot()\n",
    "p_z.transpose()"
   ]
  },
  {
   "cell_type": "code",
   "execution_count": null,
   "metadata": {},
   "outputs": [],
   "source": [
    "p_z.sum()"
   ]
  },
  {
   "cell_type": "code",
   "execution_count": null,
   "metadata": {},
   "outputs": [],
   "source": [
    "cond_z_t = probs/p_t[0]  #列（時間）ごとにP(t)で割るとP(x|t)となる   ###lidar600cond\n",
    "cond_z_t"
   ]
  },
  {
   "cell_type": "code",
   "execution_count": null,
   "metadata": {},
   "outputs": [],
   "source": [
    "(cond_z_t[6]).plot.bar(color=\"blue\", alpha=0.5)  ###lidar600pxt###\n",
    "(cond_z_t[14]).plot.bar(color=\"orange\", alpha=0.5) \n",
    "plt.show()"
   ]
  },
  {
   "source": [
    "### 2.4.5 ベイズの定理"
   ],
   "cell_type": "markdown",
   "metadata": {}
  },
  {
   "cell_type": "code",
   "execution_count": null,
   "metadata": {},
   "outputs": [],
   "source": [
    "cond_t_z = probs.transpose()/probs.transpose().sum() #行と列を入れ替えて同様に計算するとP(t|z)となる  ###lidar600bayes1\n",
    "\n",
    "print(\"P(z=630) = \", p_z[0][630]) #センサ値が630になる確率（何時かの情報はない）\n",
    "print(\"P(t=13) = \", p_t[0][13]) #時間が13時である確率\n",
    "print(\"P(t=13 | z = 630) = \", cond_t_z[630][13])\n",
    "print(\"Bayes P(z=630 | t = 13) = \", cond_t_z[630][13]*p_z[0][630]/p_t[0][13])\n",
    "\n",
    "print(\"answer P(z=630 | t = 13) = \", cond_z_t[13][630]) #13時にセンサ値が630"
   ]
  },
  {
   "cell_type": "code",
   "execution_count": null,
   "metadata": {},
   "outputs": [],
   "source": [
    "def bayes_estimation(sensor_value, current_estimation):  ###lidar600bayes2\n",
    "    new_estimation = []\n",
    "    for i in range(24):\n",
    "        new_estimation.append(cond_z_t[i][sensor_value]*current_estimation[i])\n",
    "        \n",
    "    return new_estimation/sum(new_estimation) #正規化"
   ]
  },
  {
   "cell_type": "code",
   "execution_count": null,
   "metadata": {},
   "outputs": [],
   "source": [
    "estimation = bayes_estimation(630, p_t[0])  ###lidar600bayesonestep\n",
    "plt.plot(estimation)"
   ]
  },
  {
   "cell_type": "code",
   "execution_count": null,
   "metadata": {},
   "outputs": [],
   "source": [
    "values_5 = [630,632,636] #sensor_data_600.txtから拾ってきた5時台のセンサ値        ###lidar600bayesestm1\n",
    "\n",
    "estimation = p_t[0]\n",
    "for v in values_5:\n",
    "    estimation = bayes_estimation(v, estimation)\n",
    "    \n",
    "plt.plot(estimation)"
   ]
  },
  {
   "cell_type": "code",
   "execution_count": null,
   "metadata": {},
   "outputs": [],
   "source": [
    "values_11 = [617,624,619] #sensor_data_600.txtから拾ってきた11時台のセンサ値        ###lidar600bayesestm2\n",
    "\n",
    "estimation = p_t[0]\n",
    "for v in values_11:\n",
    "    estimation = bayes_estimation(v, estimation)\n",
    "    \n",
    "plt.plot(estimation)"
   ]
  },
  {
   "source": [
    "## 2.5 多次元のガウス分布"
   ],
   "cell_type": "markdown",
   "metadata": {}
  },
  {
   "source": [
    "### 2.5.1 2次元ガウス分布の当てはめ"
   ],
   "cell_type": "markdown",
   "metadata": {}
  },
  {
   "cell_type": "code",
   "execution_count": null,
   "metadata": {},
   "outputs": [],
   "source": [
    "import pandas as pd    ###2dgauss###\n",
    "import seaborn as sns\n",
    "import matplotlib.pyplot as plt\n",
    "\n",
    "data  = pd.read_csv(\"sensor_data_700.txt\", delimiter=\" \", \n",
    "                    header=None, names = (\"date\",\"time\",\"ir\",\"lidar\"))\n",
    "\n",
    "d = data[ (data[\"time\"] < 160000) & (data[\"time\"] >= 120000) ] #12時から16時までのデータだけ抽出\n",
    "d = d.loc[:, [\"ir\", \"lidar\"]]\n",
    "\n",
    "sns.jointplot(d[\"ir\"], d[\"lidar\"], d, kind=\"kde\")\n",
    "plt.show()"
   ]
  },
  {
   "cell_type": "code",
   "execution_count": null,
   "metadata": {},
   "outputs": [],
   "source": [
    "print(\"光センサの計測値の分散:\", d.ir.var()) ###coveach###\n",
    "print(\"LiDARの計測値の分散:\", d.lidar.var())\n",
    "\n",
    "diff_ir = d.ir - d.ir.mean()\n",
    "diff_lidar = d.lidar - d.lidar.mean()\n",
    "    \n",
    "a = diff_ir * diff_lidar\n",
    "print(\"共分散:\", sum(a)/(len(d)-1))\n",
    "\n",
    "d.mean()"
   ]
  },
  {
   "cell_type": "code",
   "execution_count": null,
   "metadata": {},
   "outputs": [],
   "source": [
    "d.cov() ###covonce###"
   ]
  },
  {
   "cell_type": "code",
   "execution_count": null,
   "metadata": {},
   "outputs": [],
   "source": [
    "from scipy.stats import multivariate_normal   ###multivariatenormal###\n",
    "\n",
    "irlidar = multivariate_normal(mean=d.mean().values.T, cov=d.cov().values)"
   ]
  },
  {
   "cell_type": "code",
   "execution_count": null,
   "metadata": {},
   "outputs": [],
   "source": [
    "import numpy as np                ###contour###\n",
    " \n",
    "x, y = np.mgrid[0:40, 710:750]     #2次元平面に均等にX座標、Y座標を作る\n",
    "pos = np.empty(x.shape + (2,))     #xは40x40の2次元リストで、これに3次元目を加えて40x40x2のリストを作成\n",
    "pos[:, :, 0] = x                                   #加えた3次元目にx,yを代入\n",
    "pos[:, :, 1] = y\n",
    "cont = plt.contour(x, y, irlidar.pdf(pos)) #x, y座標と、それに対応する密度を算出\n",
    "cont.clabel(fmt='%1.1e')                         #等高線に値を書き込むためのフォーマット指定\n",
    "\n",
    "plt.show()   #描画"
   ]
  },
  {
   "cell_type": "code",
   "execution_count": null,
   "metadata": {},
   "outputs": [],
   "source": [
    "print(\"X座標:\", x)   ###grid###\n",
    "print(\"Y座標:\", y)"
   ]
  }
 ]
}