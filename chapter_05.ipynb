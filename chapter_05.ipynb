{
 "cells": [
  {
   "cell_type": "markdown",
   "metadata": {},
   "source": [
    "# 第5章 パーティクルフィルタによる自己位置推定"
   ]
  },
  {
   "cell_type": "code",
   "execution_count": null,
   "metadata": {},
   "outputs": [],
   "source": [
    "import os\n",
    "DATA_DIR = \"LNPR_BOOK_CODES/section_uncertainty/\"\n",
    "os.chdir(DATA_DIR)"
   ]
  },
  {
   "cell_type": "markdown",
   "metadata": {},
   "source": [
    "## 5.2 パーティクルの準備"
   ]
  },
  {
   "cell_type": "code",
   "execution_count": null,
   "metadata": {},
   "outputs": [],
   "source": [
    "import sys                                   ###mcl1 全部のセルを掲載\n",
    "sys.path.append('../scripts/')\n",
    "from robot import *"
   ]
  },
  {
   "cell_type": "code",
   "execution_count": null,
   "metadata": {},
   "outputs": [],
   "source": [
    "class EstimationAgent(Agent):\n",
    "    def __init__(self, nu, omega):\n",
    "        super().__init__(nu, omega)\n",
    "        \n",
    "    def draw(self, ax, elems):\n",
    "        elems.append(ax.text(0, 0, \"hoge\", fontsize=10))"
   ]
  },
  {
   "cell_type": "code",
   "execution_count": null,
   "metadata": {},
   "outputs": [],
   "source": [
    "world = World(30, 0.1)  \n",
    "\n",
    "### 地図を生成して3つランドマークを追加 ###\n",
    "m = Map()\n",
    "for ln in [(-4,2), (2,-3), (3,3)]: m.append_landmark(Landmark(*ln))\n",
    "world.append(m)          \n",
    "\n",
    "### ロボットを作る ###\n",
    "initial_pose = np.array([2, 2, math.pi/6]).T\n",
    "circling = EstimationAgent(0.2, 10.0/180*math.pi) \n",
    "r = Robot(initial_pose, sensor=Camera(m), agent=circling) \n",
    "world.append(r)\n",
    "\n",
    "### アニメーション実行 ###\n",
    "world.draw()"
   ]
  },
  {
   "cell_type": "code",
   "execution_count": null,
   "metadata": {},
   "outputs": [],
   "source": [
    "import sys         \n",
    "sys.path.append('../scripts/')\n",
    "from robot import *"
   ]
  },
  {
   "cell_type": "code",
   "execution_count": null,
   "metadata": {},
   "outputs": [],
   "source": [
    "class Particle:    ###particle_class###\n",
    "    def __init__(self, init_pose):\n",
    "        self.pose = init_pose"
   ]
  },
  {
   "cell_type": "code",
   "execution_count": null,
   "metadata": {},
   "outputs": [],
   "source": [
    "class Mcl:        ###Mcl_class###\n",
    "    def __init__(self, init_pose, num):\n",
    "        self.particles = [Particle(init_pose) for i in range(num)]"
   ]
  },
  {
   "cell_type": "code",
   "execution_count": null,
   "metadata": {},
   "outputs": [],
   "source": [
    "class EstimationAgent(Agent):  ###EstimationAgent2###\n",
    "    def __init__(self, nu, omega, estimator): #引数を追加\n",
    "        super().__init__(nu, omega)\n",
    "        self.estimator = estimator\n",
    "        \n",
    "    def draw(self, ax, elems):\n",
    "        elems.append(ax.text(0, 0, \"hoge\", fontsize=10))"
   ]
  },
  {
   "cell_type": "code",
   "execution_count": null,
   "metadata": {},
   "outputs": [],
   "source": [
    "world = World(30, 0.1)   ###1--15行目をmcl2_12として1行掲載\n",
    "\n",
    "### 地図を生成して3つランドマークを追加 ###\n",
    "m = Map()\n",
    "for ln in [(-4,2), (2,-3), (3,3)]: m.append_landmark(Landmark(*ln))\n",
    "world.append(m)       \n",
    "\n",
    "### ロボットを作る ###\n",
    "initial_pose = np.array([2, 2, math.pi/6]).T\n",
    "estimator = Mcl(initial_pose, 100)                                     #パーティクルファイルタを作る\n",
    "circling = EstimationAgent(0.2, 10.0/180*math.pi, estimator)  #estimatorを渡す\n",
    "r = Robot(initial_pose, sensor=Camera(m), agent=circling) \n",
    "world.append(r)\n",
    "\n",
    "### アニメーション実行 ###\n",
    "world.draw()"
   ]
  },
  {
   "cell_type": "code",
   "execution_count": null,
   "metadata": {},
   "outputs": [],
   "source": [
    "import sys         \n",
    "sys.path.append('../scripts/')\n",
    "from robot import *"
   ]
  },
  {
   "cell_type": "code",
   "execution_count": null,
   "metadata": {},
   "outputs": [],
   "source": [
    "class Particle:\n",
    "    def __init__(self, init_pose):\n",
    "        self.pose = init_pose"
   ]
  },
  {
   "cell_type": "code",
   "execution_count": null,
   "metadata": {},
   "outputs": [],
   "source": [
    "class Mcl:  ###Mcl3 (1,2,5行目以降を記載)\n",
    "    def __init__(self, init_pose, num):\n",
    "        self.particles = [Particle(init_pose) for i in range(num)]\n",
    "        \n",
    "    def draw(self, ax, elems):   #追加\n",
    "        xs = [p.pose[0] for p in self.particles]\n",
    "        ys = [p.pose[1] for p in self.particles]\n",
    "        vxs = [math.cos(p.pose[2]) for p in self.particles] \n",
    "        vys = [math.sin(p.pose[2]) for p in self.particles] \n",
    "        elems.append(ax.quiver(xs, ys, vxs, vys, color=\"blue\", alpha=0.5))"
   ]
  },
  {
   "cell_type": "code",
   "execution_count": null,
   "metadata": {},
   "outputs": [],
   "source": [
    "class EstimationAgent(Agent):  ###EstimationAgent3 (1,2,6,7行目を記載)\n",
    "    def __init__(self, nu, omega, estimator): \n",
    "        super().__init__(nu, omega)\n",
    "        self.estimator = estimator\n",
    "        \n",
    "    def draw(self, ax, elems):   #追加\n",
    "        self.estimator.draw(ax, elems)"
   ]
  },
  {
   "cell_type": "code",
   "execution_count": null,
   "metadata": {},
   "outputs": [],
   "source": [
    "world = World(30, 0.1)  \n",
    "\n",
    "### 地図を生成して3つランドマークを追加 ###\n",
    "m = Map()                                  \n",
    "m.append_landmark(Landmark(-4,2))\n",
    "m.append_landmark(Landmark(2,-3))\n",
    "m.append_landmark(Landmark(3,3))\n",
    "world.append(m)          \n",
    "\n",
    "### ロボットを作る ###\n",
    "initial_pose = np.array([2, 2, math.pi/6]).T\n",
    "estimator = Mcl(initial_pose, 100)\n",
    "circling = EstimationAgent(0.2, 10.0/180*math.pi, estimator) \n",
    "r = Robot(initial_pose, sensor=Camera(m), agent=circling) \n",
    "world.append(r)\n",
    "\n",
    "### アニメーション実行 ###\n",
    "world.draw()"
   ]
  }
 ],
 "metadata": {
  "kernelspec": {
   "display_name": "Python 3.6.9 64-bit",
   "metadata": {
    "interpreter": {
     "hash": "31f2aee4e71d21fbe5cf8b01ff0e069b9275f58929596ceb00d14d90e3e16cd6"
    }
   },
   "name": "python3"
  },
  "language_info": {
   "name": "python",
   "nbconvert_exporter": "python",
   "version": "3.6.9-final"
  },
  "orig_nbformat": 2
 },
 "nbformat": 4,
 "nbformat_minor": 2
}