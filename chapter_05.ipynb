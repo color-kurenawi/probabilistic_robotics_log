{
 "cells": [
  {
   "cell_type": "markdown",
   "metadata": {},
   "source": [
    "# 第5章 パーティクルフィルタによる自己位置推定"
   ]
  },
  {
   "cell_type": "code",
   "execution_count": null,
   "metadata": {},
   "outputs": [],
   "source": [
    "import os\n",
    "DATA_DIR = \"LNPR_BOOK_CODES/section_uncertainty/\"\n",
    "os.chdir(DATA_DIR)"
   ]
  },
  {
   "cell_type": "markdown",
   "metadata": {},
   "source": [
    "## 5.2 パーティクルの準備"
   ]
  },
  {
   "cell_type": "code",
   "execution_count": null,
   "metadata": {},
   "outputs": [],
   "source": [
    "import sys                                   ###mcl1 全部のセルを掲載\n",
    "sys.path.append('../scripts/')\n",
    "from robot import *"
   ]
  },
  {
   "cell_type": "code",
   "execution_count": null,
   "metadata": {},
   "outputs": [],
   "source": [
    "class EstimationAgent(Agent):\n",
    "    def __init__(self, nu, omega):\n",
    "        super().__init__(nu, omega)\n",
    "        \n",
    "    def draw(self, ax, elems):\n",
    "        elems.append(ax.text(0, 0, \"hoge\", fontsize=10))"
   ]
  },
  {
   "cell_type": "code",
   "execution_count": null,
   "metadata": {},
   "outputs": [],
   "source": [
    "world = World(30, 0.1)  \n",
    "\n",
    "### 地図を生成して3つランドマークを追加 ###\n",
    "m = Map()\n",
    "for ln in [(-4,2), (2,-3), (3,3)]: m.append_landmark(Landmark(*ln))\n",
    "world.append(m)          \n",
    "\n",
    "### ロボットを作る ###\n",
    "initial_pose = np.array([2, 2, math.pi/6]).T\n",
    "circling = EstimationAgent(0.2, 10.0/180*math.pi) \n",
    "r = Robot(initial_pose, sensor=Camera(m), agent=circling) \n",
    "world.append(r)\n",
    "\n",
    "### アニメーション実行 ###\n",
    "world.draw()"
   ]
  },
  {
   "cell_type": "code",
   "execution_count": null,
   "metadata": {},
   "outputs": [],
   "source": [
    "import sys         \n",
    "sys.path.append('../scripts/')\n",
    "from robot import *"
   ]
  },
  {
   "cell_type": "code",
   "execution_count": null,
   "metadata": {},
   "outputs": [],
   "source": [
    "class Particle:    ###particle_class###\n",
    "    def __init__(self, init_pose):\n",
    "        self.pose = init_pose"
   ]
  },
  {
   "cell_type": "code",
   "execution_count": null,
   "metadata": {},
   "outputs": [],
   "source": [
    "class Mcl:        ###Mcl_class###\n",
    "    def __init__(self, init_pose, num):\n",
    "        self.particles = [Particle(init_pose) for i in range(num)]"
   ]
  },
  {
   "cell_type": "code",
   "execution_count": null,
   "metadata": {},
   "outputs": [],
   "source": [
    "class EstimationAgent(Agent):  ###EstimationAgent2###\n",
    "    def __init__(self, nu, omega, estimator): #引数を追加\n",
    "        super().__init__(nu, omega)\n",
    "        self.estimator = estimator\n",
    "        \n",
    "    def draw(self, ax, elems):\n",
    "        elems.append(ax.text(0, 0, \"hoge\", fontsize=10))"
   ]
  },
  {
   "cell_type": "code",
   "execution_count": null,
   "metadata": {},
   "outputs": [],
   "source": [
    "world = World(30, 0.1)   ###1--15行目をmcl2_12として1行掲載\n",
    "\n",
    "### 地図を生成して3つランドマークを追加 ###\n",
    "m = Map()\n",
    "for ln in [(-4,2), (2,-3), (3,3)]: m.append_landmark(Landmark(*ln))\n",
    "world.append(m)       \n",
    "\n",
    "### ロボットを作る ###\n",
    "initial_pose = np.array([2, 2, math.pi/6]).T\n",
    "estimator = Mcl(initial_pose, 100)                                     #パーティクルファイルタを作る\n",
    "circling = EstimationAgent(0.2, 10.0/180*math.pi, estimator)  #estimatorを渡す\n",
    "r = Robot(initial_pose, sensor=Camera(m), agent=circling) \n",
    "world.append(r)\n",
    "\n",
    "### アニメーション実行 ###\n",
    "world.draw()"
   ]
  },
  {
   "cell_type": "code",
   "execution_count": null,
   "metadata": {},
   "outputs": [],
   "source": [
    "import sys         \n",
    "sys.path.append('../scripts/')\n",
    "from robot import *"
   ]
  },
  {
   "cell_type": "code",
   "execution_count": null,
   "metadata": {},
   "outputs": [],
   "source": [
    "class Particle:\n",
    "    def __init__(self, init_pose):\n",
    "        self.pose = init_pose"
   ]
  },
  {
   "cell_type": "code",
   "execution_count": null,
   "metadata": {},
   "outputs": [],
   "source": [
    "class Mcl:  ###Mcl3 (1,2,5行目以降を記載)\n",
    "    def __init__(self, init_pose, num):\n",
    "        self.particles = [Particle(init_pose) for i in range(num)]\n",
    "        \n",
    "    def draw(self, ax, elems):   #追加\n",
    "        xs = [p.pose[0] for p in self.particles]\n",
    "        ys = [p.pose[1] for p in self.particles]\n",
    "        vxs = [math.cos(p.pose[2]) for p in self.particles] \n",
    "        vys = [math.sin(p.pose[2]) for p in self.particles] \n",
    "        elems.append(ax.quiver(xs, ys, vxs, vys, color=\"blue\", alpha=0.5))"
   ]
  },
  {
   "cell_type": "code",
   "execution_count": null,
   "metadata": {},
   "outputs": [],
   "source": [
    "class EstimationAgent(Agent):  ###EstimationAgent3 (1,2,6,7行目を記載)\n",
    "    def __init__(self, nu, omega, estimator): \n",
    "        super().__init__(nu, omega)\n",
    "        self.estimator = estimator\n",
    "        \n",
    "    def draw(self, ax, elems):   #追加\n",
    "        self.estimator.draw(ax, elems)"
   ]
  },
  {
   "cell_type": "code",
   "execution_count": null,
   "metadata": {},
   "outputs": [],
   "source": [
    "world = World(30, 0.1)  \n",
    "\n",
    "### 地図を生成して3つランドマークを追加 ###\n",
    "m = Map()                                  \n",
    "m.append_landmark(Landmark(-4,2))\n",
    "m.append_landmark(Landmark(2,-3))\n",
    "m.append_landmark(Landmark(3,3))\n",
    "world.append(m)          \n",
    "\n",
    "### ロボットを作る ###\n",
    "initial_pose = np.array([2, 2, math.pi/6]).T\n",
    "estimator = Mcl(initial_pose, 100)\n",
    "circling = EstimationAgent(0.2, 10.0/180*math.pi, estimator) \n",
    "r = Robot(initial_pose, sensor=Camera(m), agent=circling) \n",
    "world.append(r)\n",
    "\n",
    "### アニメーション実行 ###\n",
    "world.draw()"
   ]
  },
  {
   "cell_type": "markdown",
   "metadata": {},
   "source": [
    "## 5.3 移動後のパーティクルの姿勢更新"
   ]
  },
  {
   "cell_type": "markdown",
   "metadata": {},
   "source": [
    "### 5.3.2 状態遷移モデルの実装"
   ]
  },
  {
   "cell_type": "code",
   "execution_count": null,
   "metadata": {},
   "outputs": [],
   "source": [
    "import sys         ###mcl4header\n",
    "sys.path.append('../scripts/')\n",
    "from robot import *\n",
    "from scipy.stats import multivariate_normal  #追加"
   ]
  },
  {
   "cell_type": "code",
   "execution_count": null,
   "metadata": {},
   "outputs": [],
   "source": [
    "class Particle:\n",
    "    def __init__(self, init_pose):\n",
    "        self.pose = init_pose"
   ]
  },
  {
   "cell_type": "code",
   "execution_count": null,
   "metadata": {},
   "outputs": [],
   "source": [
    "class Mcl: ###Mcl4（draw以下省略）###\n",
    "    def __init__(self, init_pose, num, motion_noise_stds):   #引数追加\n",
    "        self.particles = [Particle(init_pose) for i in range(num)]\n",
    "        \n",
    "        v = motion_noise_stds #5-7行目追加\n",
    "        c = np.diag([v[\"nn\"]**2, v[\"no\"]**2, v[\"on\"]**2, v[\"oo\"]**2])\n",
    "        self.motion_noise_rate_pdf = multivariate_normal(cov=c)\n",
    "        \n",
    "    def motion_update(self, nu, omega, time): #追加\n",
    "        print(self.motion_noise_rate_pdf.cov)\n",
    "        \n",
    "    def draw(self, ax, elems): \n",
    "        xs = [p.pose[0] for p in self.particles]\n",
    "        ys = [p.pose[1] for p in self.particles]\n",
    "        vxs = [math.cos(p.pose[2]) for p in self.particles] \n",
    "        vys = [math.sin(p.pose[2]) for p in self.particles] \n",
    "        elems.append(ax.quiver(xs, ys, vxs, vys, color=\"blue\", alpha=0.5))"
   ]
  },
  {
   "cell_type": "code",
   "execution_count": null,
   "metadata": {},
   "outputs": [],
   "source": [
    "class EstimationAgent(Agent):   ###EstimationAgent4###\n",
    "    def __init__(self, time_interval, nu, omega, estimator): #time_intervalを追加\n",
    "        super().__init__(nu, omega)\n",
    "        self.estimator = estimator\n",
    "        self.time_interval = time_interval #追加\n",
    "        \n",
    "    def draw(self, ax, elems):\n",
    "        self.estimator.draw(ax, elems)"
   ]
  },
  {
   "cell_type": "code",
   "execution_count": null,
   "metadata": {},
   "outputs": [],
   "source": [
    "initial_pose = np.array([0, 0, 0]).T   ###mcl_test4（下の行列出力も掲載）###\n",
    "estimator = Mcl(initial_pose, 100, motion_noise_stds={\"nn\":0.01, \"no\":0.02, \"on\":0.03, \"oo\":0.04})\n",
    "a = EstimationAgent(0.1, 0.2, 10.0/180*math.pi, estimator)\n",
    "estimator.motion_update(0.2, 10.0/180*math.pi, 0.1)"
   ]
  },
  {
   "cell_type": "code",
   "execution_count": null,
   "metadata": {},
   "outputs": [],
   "source": [
    "print(np.diag([1,2])) ###diag###"
   ]
  },
  {
   "cell_type": "code",
   "execution_count": null,
   "metadata": {},
   "outputs": [],
   "source": [
    "import sys \n",
    "sys.path.append('../scripts/')\n",
    "from robot import *\n",
    "from scipy.stats import multivariate_normal"
   ]
  },
  {
   "cell_type": "code",
   "execution_count": null,
   "metadata": {},
   "outputs": [],
   "source": [
    "class Particle: ###Particle5\n",
    "    def __init__(self, init_pose):\n",
    "        self.pose = init_pose\n",
    "        \n",
    "    def motion_update(self, nu, omega, time, noise_rate_pdf): #追加\n",
    "        ns = noise_rate_pdf.rvs() #順にnn, no, on, oo\n",
    "        noised_nu = nu + ns[0]*math.sqrt(abs(nu)/time) + ns[1]*math.sqrt(abs(omega)/time)\n",
    "        noised_omega = omega + ns[2]*math.sqrt(abs(nu)/time) + ns[3]*math.sqrt(abs(omega)/time)\n",
    "        self.pose = IdealRobot.state_transition(noised_nu, noised_omega, time, self.pose)"
   ]
  },
  {
   "cell_type": "code",
   "execution_count": null,
   "metadata": {},
   "outputs": [],
   "source": [
    "class Mcl: \n",
    "    def __init__(self, init_pose, num, motion_noise_stds): \n",
    "        self.particles = [Particle(init_pose) for i in range(num)]\n",
    "        \n",
    "        v = motion_noise_stds\n",
    "        c = np.diag([v[\"nn\"]**2, v[\"no\"]**2, v[\"on\"]**2, v[\"oo\"]**2])\n",
    "        self.motion_noise_rate_pdf = multivariate_normal(cov=c)\n",
    "        \n",
    "    def motion_update(self, nu, omega, time): ###Mcl5###\n",
    "        for p in self.particles: p.motion_update(nu, omega, time, self.motion_noise_rate_pdf)\n",
    "        \n",
    "    def draw(self, ax, elems): \n",
    "        xs = [p.pose[0] for p in self.particles]\n",
    "        ys = [p.pose[1] for p in self.particles]\n",
    "        vxs = [math.cos(p.pose[2]) for p in self.particles] \n",
    "        vys = [math.sin(p.pose[2]) for p in self.particles] \n",
    "        elems.append(ax.quiver(xs, ys, vxs, vys, color=\"blue\", alpha=0.5))"
   ]
  },
  {
   "cell_type": "code",
   "execution_count": null,
   "metadata": {},
   "outputs": [],
   "source": [
    "class EstimationAgent(Agent):        ###EstimationAgent5\n",
    "    def __init__(self, time_interval, nu, omega, estimator):\n",
    "        super().__init__(nu, omega)\n",
    "        self.estimator = estimator\n",
    "        self.time_interval = time_interval\n",
    "        \n",
    "        self.prev_nu = 0.0       #追加\n",
    "        self.prev_omega = 0.0 #追加\n",
    "        \n",
    "    def decision(self, observation=None): #追加\n",
    "        self.estimator.motion_update(self.prev_nu, self.prev_omega, self.time_interval)\n",
    "        self.prev_nu, self.prev_omega = self.nu, self.omega\n",
    "        return self.nu, self.omega\n",
    "        \n",
    "    def draw(self, ax, elems):\n",
    "        self.estimator.draw(ax, elems)"
   ]
  },
  {
   "cell_type": "code",
   "execution_count": null,
   "metadata": {},
   "outputs": [],
   "source": [
    "initial_pose = np.array([0, 0, 0]).T   ###mcl5_test（下の出力の先頭数行を記載）\n",
    "estimator = Mcl(initial_pose, 100, motion_noise_stds={\"nn\":0.01, \"no\":0.02, \"on\":0.03, \"oo\":0.04})\n",
    "a = EstimationAgent(0.1, 0.2, 10.0/180*math.pi, estimator)\n",
    "estimator.motion_update(0.2, 10.0/180*math.pi, 0.1)\n",
    "for p in estimator.particles:\n",
    "    print(p.pose)"
   ]
  },
  {
   "cell_type": "code",
   "execution_count": null,
   "metadata": {},
   "outputs": [],
   "source": [
    "def trial(motion_noise_stds): ###draw_mcl5###（下の絵も）\n",
    "    time_interval = 0.1 \n",
    "    world = World(30, time_interval) \n",
    "\n",
    "    initial_pose = np.array([0, 0, 0]).T\n",
    "    estimator = Mcl(initial_pose, 100, motion_noise_stds)\n",
    "    circling = EstimationAgent(time_interval, 0.2, 10.0/180*math.pi, estimator)\n",
    "    r = Robot(initial_pose, sensor=None, agent=circling, color=\"red\" )\n",
    "    world.append(r)\n",
    "\n",
    "    world.draw()\n",
    "    \n",
    "trial({\"nn\":0.01, \"no\":0.02, \"on\":0.03, \"oo\":0.04})"
   ]
  },
  {
   "cell_type": "markdown",
   "metadata": {},
   "source": [
    "### 5.3.3 パラメータの調整"
   ]
  },
  {
   "cell_type": "code",
   "execution_count": null,
   "metadata": {},
   "outputs": [],
   "source": [
    "import sys     ###motion_test_header\n",
    "sys.path.append('../scripts/')\n",
    "from robot import *"
   ]
  },
  {
   "cell_type": "code",
   "execution_count": null,
   "metadata": {},
   "outputs": [],
   "source": [
    "import copy    ###motion_test_linear\n",
    "\n",
    "world = World(40.0, 0.1)  \n",
    "\n",
    "initial_pose = np.array([0, 0, 0]).T\n",
    "robots = []\n",
    "r = Robot(initial_pose, sensor=None, agent=Agent(0.1, 0.0)) \n",
    "\n",
    "for i in range(100):\n",
    "    copy_r = copy.copy(r)\n",
    "    copy_r.distance_until_noise = copy_r.noise_pdf.rvs() #最初に雑音が発生するタイミングを変える\n",
    "    world.append(copy_r)     #worldに登録することでアニメーションの際に動く\n",
    "    robots.append(copy_r)   #オブジェクトの参照のリストにロボットのオブジェクトを登録\n",
    "\n",
    "world.draw()"
   ]
  },
  {
   "cell_type": "code",
   "execution_count": null,
   "metadata": {},
   "outputs": [],
   "source": [
    "import pandas as pd ###motion_test_stats\n",
    "poses = pd.DataFrame([ [math.sqrt(r.pose[0]**2 + r.pose[1]**2), r.pose[2]] for r in robots], \n",
    "                     columns=['r', 'theta'])\n",
    "poses.transpose() #縦横を入れ替えて表示"
   ]
  },
  {
   "cell_type": "code",
   "execution_count": null,
   "metadata": {},
   "outputs": [],
   "source": [
    "print(poses[\"theta\"].var()) ###motion_test_sigma_omeganu\n",
    "print(poses[\"r\"].mean())\n",
    "math.sqrt(poses[\"theta\"].var()/poses[\"r\"].mean())"
   ]
  },
  {
   "cell_type": "code",
   "execution_count": null,
   "metadata": {},
   "outputs": [],
   "source": [
    "import sys \n",
    "sys.path.append('../scripts/')\n",
    "from robot import *"
   ]
  },
  {
   "cell_type": "code",
   "execution_count": null,
   "metadata": {},
   "outputs": [],
   "source": [
    "world = World(40.0, 0.1)      ###motion_test_forward_bias\n",
    "\n",
    "initial_pose = np.array([0, 0, 0]).T\n",
    "robots = []\n",
    "\n",
    "for i in range(100):\n",
    "    r = Robot(initial_pose, sensor=None, agent=Agent(0.1, 0.0))  #ここで生成されるロボットは異なるバイアスを持つ\n",
    "    world.append(r)\n",
    "    robots.append(r)\n",
    "\n",
    "world.draw()"
   ]
  },
  {
   "cell_type": "code",
   "execution_count": null,
   "metadata": {},
   "outputs": [],
   "source": [
    "import pandas as pd ###motion_test_stats_bias\n",
    "poses = pd.DataFrame([ [math.sqrt(r.pose[0]**2 + r.pose[1]**2), r.pose[2]] for r in robots], columns=['r', 'theta'])\n",
    "poses.transpose()"
   ]
  },
  {
   "cell_type": "code",
   "execution_count": null,
   "metadata": {},
   "outputs": [],
   "source": [
    "print(poses[\"r\"].var()) \n",
    "print(poses[\"r\"].mean())\n",
    "math.sqrt(poses[\"r\"].var()/poses[\"r\"].mean())"
   ]
  }
 ],
 "metadata": {
  "kernelspec": {
   "display_name": "Python 3.6.9 64-bit",
   "metadata": {
    "interpreter": {
     "hash": "31f2aee4e71d21fbe5cf8b01ff0e069b9275f58929596ceb00d14d90e3e16cd6"
    }
   },
   "name": "python3"
  },
  "language_info": {
   "name": "python",
   "nbconvert_exporter": "python",
   "version": "3.6.9-final"
  },
  "orig_nbformat": 2
 },
 "nbformat": 4,
 "nbformat_minor": 2
}